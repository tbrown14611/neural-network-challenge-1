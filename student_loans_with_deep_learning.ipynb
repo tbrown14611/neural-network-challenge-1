{
  "cells": [
    {
      "cell_type": "markdown",
      "metadata": {
        "id": "T7ZNhGcW6q6r"
      },
      "source": [
        "# Student Loan Risk with Deep Learning"
      ]
    },
    {
      "cell_type": "code",
      "execution_count": 23,
      "metadata": {
        "id": "0otrXpJc6q6u"
      },
      "outputs": [],
      "source": [
        "# Imports\n",
        "import pandas as pd\n",
        "import tensorflow as tf\n",
        "from tensorflow.keras.layers import Dense\n",
        "from tensorflow.keras.models import Sequential\n",
        "from tensorflow import keras\n",
        "from sklearn.model_selection import train_test_split\n",
        "from sklearn.preprocessing import StandardScaler\n",
        "from sklearn.metrics import classification_report\n",
        "from pathlib import Path"
      ]
    },
    {
      "cell_type": "markdown",
      "metadata": {
        "id": "OpV4Y-3Z6q6w"
      },
      "source": [
        "---\n",
        "\n",
        "## Prepare the data to be used on a neural network model"
      ]
    },
    {
      "cell_type": "markdown",
      "metadata": {
        "id": "TUuSzp2l6q6w"
      },
      "source": [
        "### Step 1: Read the `student-loans.csv` file into a Pandas DataFrame. Review the DataFrame, looking for columns that could eventually define your features and target variables.   "
      ]
    },
    {
      "cell_type": "code",
      "execution_count": 24,
      "metadata": {
        "colab": {
          "base_uri": "https://localhost:8080/",
          "height": 226
        },
        "id": "G65km1KD6q6x",
        "outputId": "93d12d8d-c415-4017-8452-5b4966e4dde5"
      },
      "outputs": [
        {
          "data": {
            "text/html": [
              "<div>\n",
              "<style scoped>\n",
              "    .dataframe tbody tr th:only-of-type {\n",
              "        vertical-align: middle;\n",
              "    }\n",
              "\n",
              "    .dataframe tbody tr th {\n",
              "        vertical-align: top;\n",
              "    }\n",
              "\n",
              "    .dataframe thead th {\n",
              "        text-align: right;\n",
              "    }\n",
              "</style>\n",
              "<table border=\"1\" class=\"dataframe\">\n",
              "  <thead>\n",
              "    <tr style=\"text-align: right;\">\n",
              "      <th></th>\n",
              "      <th>payment_history</th>\n",
              "      <th>location_parameter</th>\n",
              "      <th>stem_degree_score</th>\n",
              "      <th>gpa_ranking</th>\n",
              "      <th>alumni_success</th>\n",
              "      <th>study_major_code</th>\n",
              "      <th>time_to_completion</th>\n",
              "      <th>finance_workshop_score</th>\n",
              "      <th>cohort_ranking</th>\n",
              "      <th>total_loan_score</th>\n",
              "      <th>financial_aid_score</th>\n",
              "      <th>credit_ranking</th>\n",
              "    </tr>\n",
              "  </thead>\n",
              "  <tbody>\n",
              "    <tr>\n",
              "      <th>0</th>\n",
              "      <td>7.4</td>\n",
              "      <td>0.70</td>\n",
              "      <td>0.00</td>\n",
              "      <td>1.9</td>\n",
              "      <td>0.076</td>\n",
              "      <td>11.0</td>\n",
              "      <td>34.0</td>\n",
              "      <td>0.9978</td>\n",
              "      <td>3.51</td>\n",
              "      <td>0.56</td>\n",
              "      <td>9.4</td>\n",
              "      <td>0</td>\n",
              "    </tr>\n",
              "    <tr>\n",
              "      <th>1</th>\n",
              "      <td>7.8</td>\n",
              "      <td>0.88</td>\n",
              "      <td>0.00</td>\n",
              "      <td>2.6</td>\n",
              "      <td>0.098</td>\n",
              "      <td>25.0</td>\n",
              "      <td>67.0</td>\n",
              "      <td>0.9968</td>\n",
              "      <td>3.20</td>\n",
              "      <td>0.68</td>\n",
              "      <td>9.8</td>\n",
              "      <td>0</td>\n",
              "    </tr>\n",
              "    <tr>\n",
              "      <th>2</th>\n",
              "      <td>7.8</td>\n",
              "      <td>0.76</td>\n",
              "      <td>0.04</td>\n",
              "      <td>2.3</td>\n",
              "      <td>0.092</td>\n",
              "      <td>15.0</td>\n",
              "      <td>54.0</td>\n",
              "      <td>0.9970</td>\n",
              "      <td>3.26</td>\n",
              "      <td>0.65</td>\n",
              "      <td>9.8</td>\n",
              "      <td>0</td>\n",
              "    </tr>\n",
              "    <tr>\n",
              "      <th>3</th>\n",
              "      <td>11.2</td>\n",
              "      <td>0.28</td>\n",
              "      <td>0.56</td>\n",
              "      <td>1.9</td>\n",
              "      <td>0.075</td>\n",
              "      <td>17.0</td>\n",
              "      <td>60.0</td>\n",
              "      <td>0.9980</td>\n",
              "      <td>3.16</td>\n",
              "      <td>0.58</td>\n",
              "      <td>9.8</td>\n",
              "      <td>1</td>\n",
              "    </tr>\n",
              "    <tr>\n",
              "      <th>4</th>\n",
              "      <td>7.4</td>\n",
              "      <td>0.70</td>\n",
              "      <td>0.00</td>\n",
              "      <td>1.9</td>\n",
              "      <td>0.076</td>\n",
              "      <td>11.0</td>\n",
              "      <td>34.0</td>\n",
              "      <td>0.9978</td>\n",
              "      <td>3.51</td>\n",
              "      <td>0.56</td>\n",
              "      <td>9.4</td>\n",
              "      <td>0</td>\n",
              "    </tr>\n",
              "  </tbody>\n",
              "</table>\n",
              "</div>"
            ],
            "text/plain": [
              "   payment_history  location_parameter  stem_degree_score  gpa_ranking  \\\n",
              "0              7.4                0.70               0.00          1.9   \n",
              "1              7.8                0.88               0.00          2.6   \n",
              "2              7.8                0.76               0.04          2.3   \n",
              "3             11.2                0.28               0.56          1.9   \n",
              "4              7.4                0.70               0.00          1.9   \n",
              "\n",
              "   alumni_success  study_major_code  time_to_completion  \\\n",
              "0           0.076              11.0                34.0   \n",
              "1           0.098              25.0                67.0   \n",
              "2           0.092              15.0                54.0   \n",
              "3           0.075              17.0                60.0   \n",
              "4           0.076              11.0                34.0   \n",
              "\n",
              "   finance_workshop_score  cohort_ranking  total_loan_score  \\\n",
              "0                  0.9978            3.51              0.56   \n",
              "1                  0.9968            3.20              0.68   \n",
              "2                  0.9970            3.26              0.65   \n",
              "3                  0.9980            3.16              0.58   \n",
              "4                  0.9978            3.51              0.56   \n",
              "\n",
              "   financial_aid_score  credit_ranking  \n",
              "0                  9.4               0  \n",
              "1                  9.8               0  \n",
              "2                  9.8               0  \n",
              "3                  9.8               1  \n",
              "4                  9.4               0  "
            ]
          },
          "execution_count": 24,
          "metadata": {},
          "output_type": "execute_result"
        }
      ],
      "source": [
        "# Read the csv into a Pandas DataFrame\n",
        "file_path = \"https://static.bc-edx.com/ai/ail-v-1-0/m18/lms/datasets/student-loans.csv\"\n",
        "loans_df = pd.read_csv(file_path)\n",
        "\n",
        "# Review the DataFrame\n",
        "loans_df.head()"
      ]
    },
    {
      "cell_type": "code",
      "execution_count": 25,
      "metadata": {
        "colab": {
          "base_uri": "https://localhost:8080/"
        },
        "id": "K8ZYB8wx6q6x",
        "outputId": "b509fc34-4488-406e-e451-2069fec37371"
      },
      "outputs": [
        {
          "data": {
            "text/plain": [
              "payment_history           float64\n",
              "location_parameter        float64\n",
              "stem_degree_score         float64\n",
              "gpa_ranking               float64\n",
              "alumni_success            float64\n",
              "study_major_code          float64\n",
              "time_to_completion        float64\n",
              "finance_workshop_score    float64\n",
              "cohort_ranking            float64\n",
              "total_loan_score          float64\n",
              "financial_aid_score       float64\n",
              "credit_ranking              int64\n",
              "dtype: object"
            ]
          },
          "execution_count": 25,
          "metadata": {},
          "output_type": "execute_result"
        }
      ],
      "source": [
        "# Review the data types associated with the columns\n",
        "loans_df.dtypes"
      ]
    },
    {
      "cell_type": "code",
      "execution_count": 26,
      "metadata": {
        "colab": {
          "base_uri": "https://localhost:8080/"
        },
        "id": "9P8aX-dW75JO",
        "outputId": "63251fa8-5ac1-4112-c2f7-bc5d97ea8491"
      },
      "outputs": [
        {
          "data": {
            "text/plain": [
              "credit_ranking\n",
              "1    855\n",
              "0    744\n",
              "Name: count, dtype: int64"
            ]
          },
          "execution_count": 26,
          "metadata": {},
          "output_type": "execute_result"
        }
      ],
      "source": [
        "# Check the credit_ranking value counts\n",
        "loans_df[\"credit_ranking\"].value_counts()"
      ]
    },
    {
      "cell_type": "markdown",
      "metadata": {
        "id": "R6vbZeDH6q6y"
      },
      "source": [
        "### Step 2: Using the preprocessed data, create the features (`X`) and target (`y`) datasets. The target dataset should be defined by the preprocessed DataFrame column “credit_ranking”. The remaining columns should define the features dataset."
      ]
    },
    {
      "cell_type": "code",
      "execution_count": 27,
      "metadata": {
        "colab": {
          "base_uri": "https://localhost:8080/"
        },
        "id": "Q5eVAP5M6q6y",
        "outputId": "89728bbf-6930-4573-a126-9f1b66ed8859"
      },
      "outputs": [
        {
          "name": "stdout",
          "output_type": "stream",
          "text": [
            "0       0\n",
            "1       0\n",
            "2       0\n",
            "3       1\n",
            "4       0\n",
            "       ..\n",
            "1594    0\n",
            "1595    1\n",
            "1596    1\n",
            "1597    0\n",
            "1598    1\n",
            "Name: credit_ranking, Length: 1599, dtype: int64\n"
          ]
        }
      ],
      "source": [
        "# Define the target set y using the credit_ranking column\n",
        "\n",
        "y = loans_df[\"credit_ranking\"]\n",
        "\n",
        "# Display a sample of y\n",
        "print(y)"
      ]
    },
    {
      "cell_type": "code",
      "execution_count": 28,
      "metadata": {
        "colab": {
          "base_uri": "https://localhost:8080/",
          "height": 226
        },
        "id": "IIkrD2Sn6q6z",
        "outputId": "ce07c4a3-fb81-4657-d11e-ec85ae8554c9"
      },
      "outputs": [
        {
          "name": "stdout",
          "output_type": "stream",
          "text": [
            "      payment_history  location_parameter  stem_degree_score  gpa_ranking  \\\n",
            "0                 7.4               0.700               0.00          1.9   \n",
            "1                 7.8               0.880               0.00          2.6   \n",
            "2                 7.8               0.760               0.04          2.3   \n",
            "3                11.2               0.280               0.56          1.9   \n",
            "4                 7.4               0.700               0.00          1.9   \n",
            "...               ...                 ...                ...          ...   \n",
            "1594              6.2               0.600               0.08          2.0   \n",
            "1595              5.9               0.550               0.10          2.2   \n",
            "1596              6.3               0.510               0.13          2.3   \n",
            "1597              5.9               0.645               0.12          2.0   \n",
            "1598              6.0               0.310               0.47          3.6   \n",
            "\n",
            "      alumni_success  study_major_code  time_to_completion  \\\n",
            "0              0.076              11.0                34.0   \n",
            "1              0.098              25.0                67.0   \n",
            "2              0.092              15.0                54.0   \n",
            "3              0.075              17.0                60.0   \n",
            "4              0.076              11.0                34.0   \n",
            "...              ...               ...                 ...   \n",
            "1594           0.090              32.0                44.0   \n",
            "1595           0.062              39.0                51.0   \n",
            "1596           0.076              29.0                40.0   \n",
            "1597           0.075              32.0                44.0   \n",
            "1598           0.067              18.0                42.0   \n",
            "\n",
            "      finance_workshop_score  cohort_ranking  total_loan_score  \\\n",
            "0                    0.99780            3.51              0.56   \n",
            "1                    0.99680            3.20              0.68   \n",
            "2                    0.99700            3.26              0.65   \n",
            "3                    0.99800            3.16              0.58   \n",
            "4                    0.99780            3.51              0.56   \n",
            "...                      ...             ...               ...   \n",
            "1594                 0.99490            3.45              0.58   \n",
            "1595                 0.99512            3.52              0.76   \n",
            "1596                 0.99574            3.42              0.75   \n",
            "1597                 0.99547            3.57              0.71   \n",
            "1598                 0.99549            3.39              0.66   \n",
            "\n",
            "      financial_aid_score  \n",
            "0                     9.4  \n",
            "1                     9.8  \n",
            "2                     9.8  \n",
            "3                     9.8  \n",
            "4                     9.4  \n",
            "...                   ...  \n",
            "1594                 10.5  \n",
            "1595                 11.2  \n",
            "1596                 11.0  \n",
            "1597                 10.2  \n",
            "1598                 11.0  \n",
            "\n",
            "[1599 rows x 11 columns]\n"
          ]
        }
      ],
      "source": [
        "# Define features set X by selecting all columns but credit_ranking\n",
        "X = loans_df.drop(columns=\"credit_ranking\")\n",
        "\n",
        "# Review the features DataFrame\n",
        "print(X)"
      ]
    },
    {
      "cell_type": "markdown",
      "metadata": {
        "id": "QmM9c-tj6q6z"
      },
      "source": [
        "### Step 3: Split the features and target sets into training and testing datasets.\n"
      ]
    },
    {
      "cell_type": "code",
      "execution_count": 29,
      "metadata": {
        "id": "OD7xwU_96q6z"
      },
      "outputs": [],
      "source": [
        "# Split the preprocessed data into a training and testing dataset\n",
        "# Assign the function a random_state equal to 1\n",
        "X_train, X_test, y_train, y_test = train_test_split(X, y, random_state=1)"
      ]
    },
    {
      "cell_type": "markdown",
      "metadata": {
        "id": "G9i6DHY06q6z"
      },
      "source": [
        "### Step 4: Use scikit-learn's `StandardScaler` to scale the features data."
      ]
    },
    {
      "cell_type": "code",
      "execution_count": 30,
      "metadata": {
        "id": "BzD3z20m6q6z"
      },
      "outputs": [],
      "source": [
        "# Create a StandardScaler instance\n",
        "X_scaler = StandardScaler()\n",
        "\n",
        "# Fit the scaler to the features training dataset\n",
        "X_scaler.fit(X_train)\n",
        "\n",
        "# Scale the data\n",
        "X_train_scaled = X_scaler.transform(X_train)\n",
        "X_test_scaled = X_scaler.transform(X_test)\n"
      ]
    },
    {
      "cell_type": "markdown",
      "metadata": {
        "id": "CZzVDjba6q6z"
      },
      "source": [
        "---\n",
        "\n",
        "## Compile and Evaluate a Model Using a Neural Network"
      ]
    },
    {
      "cell_type": "markdown",
      "metadata": {
        "id": "m-pSux4Q6q60"
      },
      "source": [
        "### Step 1: Create a deep neural network by assigning the number of input features, the number of layers, and the number of neurons on each layer using Tensorflow’s Keras.\n",
        "\n",
        "> **Hint** You can start with a two-layer deep neural network model that uses the `relu` activation function for both layers.\n"
      ]
    },
    {
      "cell_type": "code",
      "execution_count": 31,
      "metadata": {},
      "outputs": [],
      "source": [
        "nn_model = tf.keras.models.Sequential()"
      ]
    },
    {
      "cell_type": "code",
      "execution_count": 32,
      "metadata": {
        "colab": {
          "base_uri": "https://localhost:8080/"
        },
        "id": "t5C94FCd6q60",
        "outputId": "cbf05783-2f56-4745-cd33-649a6152e510"
      },
      "outputs": [],
      "source": [
        "# Set input nodes to the number of features\n",
        "input_nodes = len(X.columns)\n",
        "\n",
        "# Add our first Dense layer, including the input layer\n",
        "nn_model.add(tf.keras.layers.Dense(units=6, activation=\"relu\", input_dim=input_nodes))\n"
      ]
    },
    {
      "cell_type": "code",
      "execution_count": 33,
      "metadata": {
        "id": "c_KXDLkF6q60"
      },
      "outputs": [],
      "source": [
        "# Define the number of hidden nodes for the first hidden layer\n",
        "# nn_model.add(Dense(2, activation='relu'))\n",
        "\n",
        "# Define the number of hidden nodes for the second hidden layer\n",
        "# nn_model.add(Dense(2, activation='relu'))\n",
        "\n",
        "# Define the number of neurons in the output layer\n",
        "\n",
        "# nn_model.add(Dense(1, activation='sigmoid'))"
      ]
    },
    {
      "cell_type": "code",
      "execution_count": 34,
      "metadata": {
        "id": "63UdFncw6q60"
      },
      "outputs": [],
      "source": [
        "# Create the Sequential model instance\n",
        "\n",
        "# Add the first hidden layer\n",
        "nn_model.add(tf.keras.layers.Dense(units=3, activation=\"relu\"))\n",
        "\n",
        "# Add the second hidden layer\n",
        "# nn_model.add(tf.keras.layers.Dense(units=2, activation=\"relu\"))\n",
        "\n",
        "# Add the output layer to the model specifying the number of output neurons and activation function\n",
        "nn_model.add(tf.keras.layers.Dense(units=1, activation=\"sigmoid\"))"
      ]
    },
    {
      "cell_type": "code",
      "execution_count": 35,
      "metadata": {
        "colab": {
          "base_uri": "https://localhost:8080/"
        },
        "id": "-Beoh4f_6q61",
        "outputId": "2e50f810-086b-4d89-bf7d-98afbe0d649d"
      },
      "outputs": [
        {
          "name": "stdout",
          "output_type": "stream",
          "text": [
            "Model: \"sequential_1\"\n",
            "_________________________________________________________________\n",
            " Layer (type)                Output Shape              Param #   \n",
            "=================================================================\n",
            " dense_3 (Dense)             (None, 6)                 72        \n",
            "                                                                 \n",
            " dense_4 (Dense)             (None, 3)                 21        \n",
            "                                                                 \n",
            " dense_5 (Dense)             (None, 1)                 4         \n",
            "                                                                 \n",
            "=================================================================\n",
            "Total params: 97 (388.00 Byte)\n",
            "Trainable params: 97 (388.00 Byte)\n",
            "Non-trainable params: 0 (0.00 Byte)\n",
            "_________________________________________________________________\n"
          ]
        }
      ],
      "source": [
        "# Display the Sequential model summary\n",
        "nn_model.summary()"
      ]
    },
    {
      "cell_type": "markdown",
      "metadata": {
        "id": "nRqWGIRo6q61"
      },
      "source": [
        "### Step 2: Compile and fit the model using the `binary_crossentropy` loss function, the `adam` optimizer, and the `accuracy` evaluation metric.\n"
      ]
    },
    {
      "cell_type": "code",
      "execution_count": 36,
      "metadata": {
        "id": "E-hZaeSn6q61"
      },
      "outputs": [],
      "source": [
        "# Compile the Sequential model\n",
        "nn_model.compile(loss=\"binary_crossentropy\", optimizer=\"adam\", metrics=[\"accuracy\"])"
      ]
    },
    {
      "cell_type": "code",
      "execution_count": 37,
      "metadata": {
        "colab": {
          "base_uri": "https://localhost:8080/"
        },
        "id": "x25e8Idc6q61",
        "outputId": "e95946ba-23da-47a3-a1c1-5e9a2a484a47"
      },
      "outputs": [
        {
          "name": "stdout",
          "output_type": "stream",
          "text": [
            "Epoch 1/50\n",
            "38/38 [==============================] - 0s 946us/step - loss: 0.6992 - accuracy: 0.4996\n",
            "Epoch 2/50\n",
            "38/38 [==============================] - 0s 935us/step - loss: 0.6892 - accuracy: 0.5329\n",
            "Epoch 3/50\n",
            "38/38 [==============================] - 0s 863us/step - loss: 0.6819 - accuracy: 0.5780\n",
            "Epoch 4/50\n",
            "38/38 [==============================] - 0s 947us/step - loss: 0.6762 - accuracy: 0.6038\n",
            "Epoch 5/50\n",
            "38/38 [==============================] - 0s 928us/step - loss: 0.6717 - accuracy: 0.6222\n",
            "Epoch 6/50\n",
            "38/38 [==============================] - 0s 979us/step - loss: 0.6674 - accuracy: 0.6330\n",
            "Epoch 7/50\n",
            "38/38 [==============================] - 0s 877us/step - loss: 0.6628 - accuracy: 0.6397\n",
            "Epoch 8/50\n",
            "38/38 [==============================] - 0s 727us/step - loss: 0.6575 - accuracy: 0.6547\n",
            "Epoch 9/50\n",
            "38/38 [==============================] - 0s 718us/step - loss: 0.6511 - accuracy: 0.6656\n",
            "Epoch 10/50\n",
            "38/38 [==============================] - 0s 747us/step - loss: 0.6440 - accuracy: 0.6914\n",
            "Epoch 11/50\n",
            "38/38 [==============================] - 0s 976us/step - loss: 0.6357 - accuracy: 0.7098\n",
            "Epoch 12/50\n",
            "38/38 [==============================] - 0s 901us/step - loss: 0.6279 - accuracy: 0.7148\n",
            "Epoch 13/50\n",
            "38/38 [==============================] - 0s 942us/step - loss: 0.6200 - accuracy: 0.7223\n",
            "Epoch 14/50\n",
            "38/38 [==============================] - 0s 782us/step - loss: 0.6135 - accuracy: 0.7239\n",
            "Epoch 15/50\n",
            "38/38 [==============================] - 0s 747us/step - loss: 0.6074 - accuracy: 0.7273\n",
            "Epoch 16/50\n",
            "38/38 [==============================] - 0s 772us/step - loss: 0.6021 - accuracy: 0.7264\n",
            "Epoch 17/50\n",
            "38/38 [==============================] - 0s 720us/step - loss: 0.5973 - accuracy: 0.7289\n",
            "Epoch 18/50\n",
            "38/38 [==============================] - 0s 762us/step - loss: 0.5921 - accuracy: 0.7256\n",
            "Epoch 19/50\n",
            "38/38 [==============================] - 0s 934us/step - loss: 0.5868 - accuracy: 0.7289\n",
            "Epoch 20/50\n",
            "38/38 [==============================] - 0s 753us/step - loss: 0.5813 - accuracy: 0.7281\n",
            "Epoch 21/50\n",
            "38/38 [==============================] - 0s 887us/step - loss: 0.5747 - accuracy: 0.7289\n",
            "Epoch 22/50\n",
            "38/38 [==============================] - 0s 936us/step - loss: 0.5678 - accuracy: 0.7373\n",
            "Epoch 23/50\n",
            "38/38 [==============================] - 0s 758us/step - loss: 0.5602 - accuracy: 0.7381\n",
            "Epoch 24/50\n",
            "38/38 [==============================] - 0s 969us/step - loss: 0.5533 - accuracy: 0.7356\n",
            "Epoch 25/50\n",
            "38/38 [==============================] - 0s 904us/step - loss: 0.5470 - accuracy: 0.7364\n",
            "Epoch 26/50\n",
            "38/38 [==============================] - 0s 729us/step - loss: 0.5414 - accuracy: 0.7398\n",
            "Epoch 27/50\n",
            "38/38 [==============================] - 0s 754us/step - loss: 0.5360 - accuracy: 0.7389\n",
            "Epoch 28/50\n",
            "38/38 [==============================] - 0s 937us/step - loss: 0.5318 - accuracy: 0.7373\n",
            "Epoch 29/50\n",
            "38/38 [==============================] - 0s 1ms/step - loss: 0.5292 - accuracy: 0.7398\n",
            "Epoch 30/50\n",
            "38/38 [==============================] - 0s 749us/step - loss: 0.5256 - accuracy: 0.7423\n",
            "Epoch 31/50\n",
            "38/38 [==============================] - 0s 853us/step - loss: 0.5232 - accuracy: 0.7440\n",
            "Epoch 32/50\n",
            "38/38 [==============================] - 0s 950us/step - loss: 0.5204 - accuracy: 0.7431\n",
            "Epoch 33/50\n",
            "38/38 [==============================] - 0s 906us/step - loss: 0.5190 - accuracy: 0.7456\n",
            "Epoch 34/50\n",
            "38/38 [==============================] - 0s 1ms/step - loss: 0.5169 - accuracy: 0.7423\n",
            "Epoch 35/50\n",
            "38/38 [==============================] - 0s 1ms/step - loss: 0.5156 - accuracy: 0.7498\n",
            "Epoch 36/50\n",
            "38/38 [==============================] - 0s 848us/step - loss: 0.5145 - accuracy: 0.7481\n",
            "Epoch 37/50\n",
            "38/38 [==============================] - 0s 973us/step - loss: 0.5135 - accuracy: 0.7490\n",
            "Epoch 38/50\n",
            "38/38 [==============================] - 0s 922us/step - loss: 0.5121 - accuracy: 0.7490\n",
            "Epoch 39/50\n",
            "38/38 [==============================] - 0s 729us/step - loss: 0.5111 - accuracy: 0.7465\n",
            "Epoch 40/50\n",
            "38/38 [==============================] - 0s 1ms/step - loss: 0.5101 - accuracy: 0.7473\n",
            "Epoch 41/50\n",
            "38/38 [==============================] - 0s 939us/step - loss: 0.5093 - accuracy: 0.7490\n",
            "Epoch 42/50\n",
            "38/38 [==============================] - 0s 575us/step - loss: 0.5081 - accuracy: 0.7481\n",
            "Epoch 43/50\n",
            "38/38 [==============================] - 0s 881us/step - loss: 0.5069 - accuracy: 0.7515\n",
            "Epoch 44/50\n",
            "38/38 [==============================] - 0s 1ms/step - loss: 0.5060 - accuracy: 0.7515\n",
            "Epoch 45/50\n",
            "38/38 [==============================] - 0s 906us/step - loss: 0.5054 - accuracy: 0.7498\n",
            "Epoch 46/50\n",
            "38/38 [==============================] - 0s 934us/step - loss: 0.5044 - accuracy: 0.7540\n",
            "Epoch 47/50\n",
            "38/38 [==============================] - 0s 686us/step - loss: 0.5039 - accuracy: 0.7540\n",
            "Epoch 48/50\n",
            "38/38 [==============================] - 0s 1ms/step - loss: 0.5031 - accuracy: 0.7556\n",
            "Epoch 49/50\n",
            "38/38 [==============================] - 0s 751us/step - loss: 0.5027 - accuracy: 0.7565\n",
            "Epoch 50/50\n",
            "38/38 [==============================] - 0s 750us/step - loss: 0.5017 - accuracy: 0.7548\n"
          ]
        }
      ],
      "source": [
        "# Fit the model using 50 epochs and the training data\n",
        "fit_model = nn_model.fit(X_train_scaled, y_train, epochs=50)"
      ]
    },
    {
      "cell_type": "markdown",
      "metadata": {
        "id": "RfHMPZVI6q61"
      },
      "source": [
        "### Step 3: Evaluate the model using the test data to determine the model’s loss and accuracy.\n"
      ]
    },
    {
      "cell_type": "code",
      "execution_count": 38,
      "metadata": {
        "colab": {
          "base_uri": "https://localhost:8080/"
        },
        "id": "5hfVADKo6q61",
        "outputId": "7df473ad-3301-4b49-e5c3-16e1687cc1cf"
      },
      "outputs": [
        {
          "name": "stdout",
          "output_type": "stream",
          "text": [
            "13/13 - 0s - loss: 0.5143 - accuracy: 0.7375 - 82ms/epoch - 6ms/step\n",
            "Loss: 0.5142572522163391, Accuracy: 0.737500011920929\n"
          ]
        },
        {
          "data": {
            "text/plain": [
              "<Axes: >"
            ]
          },
          "execution_count": 38,
          "metadata": {},
          "output_type": "execute_result"
        },
        {
          "data": {
            "image/png": "[encoded data removed]",
            "text/plain": [
              "<Figure size 640x480 with 1 Axes>"
            ]
          },
          "metadata": {},
          "output_type": "display_data"
        }
      ],
      "source": [
        "# Evaluate the model loss and accuracy metrics using the evaluate method and the test data\n",
        "model_loss, model_accuracy = nn_model.evaluate(X_test_scaled, y_test, verbose=2)\n",
        "print(f\"Loss: {model_loss}, Accuracy: {model_accuracy}\")\n",
        "\n",
        "# Create a DataFrame containing training history\n",
        "history_df = pd.DataFrame(fit_model.history, index=range(1,len(fit_model.history[\"loss\"])+1))\n",
        "\n",
        "# Display the model loss and accuracy results\n",
        "history_df.plot(y=\"accuracy\")"
      ]
    },
    {
      "cell_type": "markdown",
      "metadata": {
        "id": "jpAv0rXA6q61"
      },
      "source": [
        "### Step 4: Save and export your model to a keras file, and name the file `student_loans.keras`.\n"
      ]
    },
    {
      "cell_type": "code",
      "execution_count": 39,
      "metadata": {
        "id": "q0MetN0W6q61"
      },
      "outputs": [],
      "source": [
        "# Set the model's file path\n",
        "filepath = '/'\n",
        "\n",
        "# Export your model to a keras file\n",
        "nn_model.save('student_loans.keras')"
      ]
    },
    {
      "cell_type": "markdown",
      "metadata": {
        "id": "R1opCDdN6q61"
      },
      "source": [
        "---\n",
        "## Predict Loan Repayment Success by Using your Neural Network Model"
      ]
    },
    {
      "cell_type": "markdown",
      "metadata": {
        "id": "TfIfpeiy6q61"
      },
      "source": [
        "### Step 1: Reload your saved model."
      ]
    },
    {
      "cell_type": "code",
      "execution_count": 44,
      "metadata": {
        "id": "OCET2mvW6q61"
      },
      "outputs": [
        {
          "name": "stdout",
          "output_type": "stream",
          "text": [
            "Model: \"sequential_1\"\n",
            "_________________________________________________________________\n",
            " Layer (type)                Output Shape              Param #   \n",
            "=================================================================\n",
            " dense_3 (Dense)             (None, 6)                 72        \n",
            "                                                                 \n",
            " dense_4 (Dense)             (None, 3)                 21        \n",
            "                                                                 \n",
            " dense_5 (Dense)             (None, 1)                 4         \n",
            "                                                                 \n",
            "=================================================================\n",
            "Total params: 97 (388.00 Byte)\n",
            "Trainable params: 97 (388.00 Byte)\n",
            "Non-trainable params: 0 (0.00 Byte)\n",
            "_________________________________________________________________\n"
          ]
        }
      ],
      "source": [
        "# Set the model's file path\n",
        "filepath = '/'\n",
        "\n",
        "# Load the model to a new object\n",
        "loaded_model = tf.keras.models.load_model('student_loans.keras')\n",
        "\n",
        "# Show the model architecture\n",
        "loaded_model.summary()"
      ]
    },
    {
      "cell_type": "markdown",
      "metadata": {
        "id": "rTPKooGw6q61"
      },
      "source": [
        "### Step 2: Make predictions on the testing data and save the predictions to a DataFrame."
      ]
    },
    {
      "cell_type": "code",
      "execution_count": 46,
      "metadata": {
        "colab": {
          "base_uri": "https://localhost:8080/"
        },
        "id": "Vet7qjgx6q62",
        "outputId": "0925af42-7e12-4978-8396-2a2c1580e1eb"
      },
      "outputs": [
        {
          "name": "stdout",
          "output_type": "stream",
          "text": [
            "13/13 - 0s - 25ms/epoch - 2ms/step\n"
          ]
        },
        {
          "data": {
            "text/plain": [
              "array([[1.90072160e-06],\n",
              "       [1.31502680e-15],\n",
              "       [8.53093505e-01],\n",
              "       [2.61004746e-10],\n",
              "       [8.79634678e-01],\n",
              "       [8.35847735e-01],\n",
              "       [7.39429072e-02],\n",
              "       [1.03814365e-29],\n",
              "       [9.63579118e-01],\n",
              "       [8.67176175e-01],\n",
              "       [8.64285699e-10],\n",
              "       [3.52057418e-06],\n",
              "       [9.88112108e-16],\n",
              "       [5.85631967e-01],\n",
              "       [3.72491549e-08],\n",
              "       [2.06217501e-10],\n",
              "       [9.68000222e-06],\n",
              "       [1.93452165e-01],\n",
              "       [6.18907213e-01],\n",
              "       [3.70299332e-02],\n",
              "       [7.78237402e-01],\n",
              "       [7.83071187e-07],\n",
              "       [1.48926750e-02],\n",
              "       [9.92806613e-01],\n",
              "       [2.12272801e-20],\n",
              "       [2.08539001e-04],\n",
              "       [8.73829246e-01],\n",
              "       [2.28290986e-15],\n",
              "       [1.88228148e-11],\n",
              "       [0.00000000e+00],\n",
              "       [5.33634983e-02],\n",
              "       [9.80838180e-01],\n",
              "       [9.88120455e-22],\n",
              "       [8.36803973e-01],\n",
              "       [7.43737983e-24],\n",
              "       [5.91360711e-15],\n",
              "       [6.47864938e-01],\n",
              "       [7.25511432e-01],\n",
              "       [9.64019716e-01],\n",
              "       [1.48474813e-01],\n",
              "       [6.72955066e-04],\n",
              "       [0.00000000e+00],\n",
              "       [5.43278801e-13],\n",
              "       [4.52994427e-05],\n",
              "       [1.13977788e-36],\n",
              "       [1.95751354e-01],\n",
              "       [2.91069391e-08],\n",
              "       [8.90619457e-01],\n",
              "       [7.43417948e-15],\n",
              "       [9.72010851e-01],\n",
              "       [0.00000000e+00],\n",
              "       [9.80994701e-01],\n",
              "       [1.49626937e-02],\n",
              "       [0.00000000e+00],\n",
              "       [1.15486557e-07],\n",
              "       [9.28481877e-01],\n",
              "       [4.40020114e-01],\n",
              "       [6.61292374e-01],\n",
              "       [2.86142170e-01],\n",
              "       [2.84286308e-29],\n",
              "       [1.78175456e-15],\n",
              "       [1.38681633e-12],\n",
              "       [3.38702785e-06],\n",
              "       [1.22354630e-19],\n",
              "       [0.00000000e+00],\n",
              "       [2.34505078e-05],\n",
              "       [1.90908351e-04],\n",
              "       [1.19766112e-22],\n",
              "       [7.58657098e-01],\n",
              "       [8.95784736e-01],\n",
              "       [7.43737983e-24],\n",
              "       [1.01375319e-01],\n",
              "       [7.35418499e-01],\n",
              "       [9.64709461e-01],\n",
              "       [9.40622807e-01],\n",
              "       [3.21631543e-02],\n",
              "       [9.40573573e-01],\n",
              "       [8.51015389e-01],\n",
              "       [1.70193086e-33],\n",
              "       [5.99478139e-04],\n",
              "       [5.70954755e-02],\n",
              "       [6.34293354e-34],\n",
              "       [1.63392746e-36],\n",
              "       [3.87944400e-01],\n",
              "       [2.97044545e-09],\n",
              "       [9.94879830e-36],\n",
              "       [9.47849584e-33],\n",
              "       [6.58676028e-01],\n",
              "       [6.54080212e-01],\n",
              "       [3.65133360e-02],\n",
              "       [2.72558069e-23],\n",
              "       [2.25775963e-07],\n",
              "       [4.24661595e-09],\n",
              "       [5.75781414e-05],\n",
              "       [9.72925782e-01],\n",
              "       [3.75696196e-04],\n",
              "       [9.95061159e-01],\n",
              "       [3.84086192e-01],\n",
              "       [8.72676168e-03],\n",
              "       [9.39705962e-18],\n",
              "       [6.98411791e-03],\n",
              "       [8.89432609e-01],\n",
              "       [1.01691080e-15],\n",
              "       [1.26543077e-30],\n",
              "       [8.26118616e-23],\n",
              "       [1.06513044e-05],\n",
              "       [1.26558700e-06],\n",
              "       [1.13645864e-10],\n",
              "       [2.87646108e-04],\n",
              "       [1.04268769e-37],\n",
              "       [9.22200203e-01],\n",
              "       [6.37916684e-01],\n",
              "       [4.63880545e-10],\n",
              "       [5.23718008e-05],\n",
              "       [9.18484688e-01],\n",
              "       [8.61120939e-01],\n",
              "       [8.31866673e-18],\n",
              "       [8.67395802e-28],\n",
              "       [2.05102422e-20],\n",
              "       [2.87088739e-14],\n",
              "       [5.35145760e-01],\n",
              "       [9.93824899e-01],\n",
              "       [8.52328756e-17],\n",
              "       [5.48347175e-01],\n",
              "       [3.29459202e-03],\n",
              "       [1.65129121e-09],\n",
              "       [5.57201076e-08],\n",
              "       [5.37157028e-18],\n",
              "       [9.28225994e-01],\n",
              "       [7.61201931e-03],\n",
              "       [8.82070601e-01],\n",
              "       [1.60646056e-15],\n",
              "       [5.23885935e-10],\n",
              "       [3.02465974e-33],\n",
              "       [6.74338639e-01],\n",
              "       [2.35905429e-08],\n",
              "       [1.74637876e-12],\n",
              "       [9.88619804e-01],\n",
              "       [1.19870261e-03],\n",
              "       [2.87125164e-16],\n",
              "       [3.15683586e-08],\n",
              "       [1.65709555e-02],\n",
              "       [8.32186409e-09],\n",
              "       [7.49442339e-01],\n",
              "       [8.83420798e-05],\n",
              "       [5.80997607e-07],\n",
              "       [3.36612642e-01],\n",
              "       [1.25991539e-23],\n",
              "       [2.36988684e-12],\n",
              "       [5.33673028e-06],\n",
              "       [5.45501351e-01],\n",
              "       [7.84499410e-11],\n",
              "       [2.42978085e-17],\n",
              "       [3.99584569e-05],\n",
              "       [1.94116533e-01],\n",
              "       [9.21265543e-01],\n",
              "       [9.09205079e-01],\n",
              "       [4.41935748e-01],\n",
              "       [2.30875656e-01],\n",
              "       [2.41134651e-02],\n",
              "       [8.22933793e-01],\n",
              "       [9.06128585e-01],\n",
              "       [2.38118388e-04],\n",
              "       [3.21035595e-30],\n",
              "       [1.90980834e-04],\n",
              "       [2.30311398e-05],\n",
              "       [6.44320098e-05],\n",
              "       [7.92015033e-34],\n",
              "       [2.43539814e-22],\n",
              "       [8.97183836e-01],\n",
              "       [4.03166314e-06],\n",
              "       [5.01983943e-18],\n",
              "       [1.47093320e-18],\n",
              "       [1.99358374e-01],\n",
              "       [4.37957317e-01],\n",
              "       [2.67847180e-02],\n",
              "       [6.37224370e-11],\n",
              "       [1.62898869e-14],\n",
              "       [5.99203707e-16],\n",
              "       [3.75696196e-04],\n",
              "       [6.97299186e-03],\n",
              "       [5.92753440e-02],\n",
              "       [1.92738056e-12],\n",
              "       [7.11538208e-27],\n",
              "       [2.61509894e-11],\n",
              "       [3.99718825e-27],\n",
              "       [9.90435064e-01],\n",
              "       [2.59644395e-09],\n",
              "       [9.40864682e-01],\n",
              "       [2.99413861e-23],\n",
              "       [9.13506482e-22],\n",
              "       [3.46999664e-12],\n",
              "       [1.28795298e-14],\n",
              "       [5.00703230e-08],\n",
              "       [6.25767127e-09],\n",
              "       [1.35669753e-01],\n",
              "       [1.52076005e-08],\n",
              "       [9.00413370e-14],\n",
              "       [2.73247785e-03],\n",
              "       [1.00914995e-05],\n",
              "       [9.73010421e-01],\n",
              "       [8.04942683e-05],\n",
              "       [9.94663239e-01],\n",
              "       [9.37298325e-22],\n",
              "       [1.86065584e-01],\n",
              "       [6.74319938e-02],\n",
              "       [8.89802694e-01],\n",
              "       [4.16871108e-33],\n",
              "       [2.94984326e-09],\n",
              "       [9.11985245e-03],\n",
              "       [2.88187575e-22],\n",
              "       [9.77943599e-01],\n",
              "       [1.01691080e-15],\n",
              "       [1.64413257e-04],\n",
              "       [5.70717791e-25],\n",
              "       [1.61138251e-23],\n",
              "       [1.36244053e-05],\n",
              "       [1.59306907e-33],\n",
              "       [5.50423982e-03],\n",
              "       [9.26584107e-06],\n",
              "       [2.21613154e-05],\n",
              "       [8.90683077e-06],\n",
              "       [3.46709101e-24],\n",
              "       [7.03061632e-17],\n",
              "       [1.79881940e-03],\n",
              "       [8.67047755e-04],\n",
              "       [2.06631512e-08],\n",
              "       [8.69889316e-09],\n",
              "       [3.79907280e-01],\n",
              "       [1.75862478e-05],\n",
              "       [9.54967916e-01],\n",
              "       [2.88777323e-06],\n",
              "       [1.89590605e-06],\n",
              "       [3.79325330e-01],\n",
              "       [1.14412689e-11],\n",
              "       [1.00950893e-23],\n",
              "       [7.48843559e-06],\n",
              "       [9.85120493e-15],\n",
              "       [8.75622213e-01],\n",
              "       [9.17923450e-01],\n",
              "       [2.31272861e-01],\n",
              "       [8.65330577e-01],\n",
              "       [5.61214684e-08],\n",
              "       [8.71213138e-01],\n",
              "       [1.93519354e-12],\n",
              "       [4.68265824e-03],\n",
              "       [5.29036342e-13],\n",
              "       [5.49478167e-14],\n",
              "       [1.03665935e-03],\n",
              "       [1.17580965e-03],\n",
              "       [2.18553598e-21],\n",
              "       [1.48266480e-07],\n",
              "       [1.28193680e-13],\n",
              "       [9.69076878e-04],\n",
              "       [1.15248633e-06],\n",
              "       [7.35423658e-13],\n",
              "       [6.03697625e-26],\n",
              "       [5.30740205e-21],\n",
              "       [6.23220042e-18],\n",
              "       [9.93925214e-01],\n",
              "       [5.29210389e-01],\n",
              "       [8.27740014e-01],\n",
              "       [9.64434624e-01],\n",
              "       [8.19240287e-10],\n",
              "       [5.00256984e-21],\n",
              "       [2.36988684e-12],\n",
              "       [7.02952519e-02],\n",
              "       [5.51604777e-28],\n",
              "       [1.04090381e-21],\n",
              "       [5.52355684e-02],\n",
              "       [7.07220554e-01],\n",
              "       [3.40925205e-13],\n",
              "       [9.39685388e-31],\n",
              "       [4.51494783e-01],\n",
              "       [8.45901943e-18],\n",
              "       [4.56515181e-06],\n",
              "       [2.52405554e-01],\n",
              "       [5.01983943e-18],\n",
              "       [2.27863076e-10],\n",
              "       [2.63349214e-16],\n",
              "       [8.38052988e-01],\n",
              "       [9.03750658e-01],\n",
              "       [2.58389786e-02],\n",
              "       [0.00000000e+00],\n",
              "       [9.74913238e-14],\n",
              "       [6.77199364e-01],\n",
              "       [1.88897118e-01],\n",
              "       [3.43077439e-34],\n",
              "       [1.69572383e-01],\n",
              "       [2.55042854e-09],\n",
              "       [2.54326130e-18],\n",
              "       [9.68000222e-06],\n",
              "       [4.36988682e-01],\n",
              "       [2.72152070e-02],\n",
              "       [5.08455150e-06],\n",
              "       [8.82472456e-01],\n",
              "       [8.10254813e-22],\n",
              "       [1.79490671e-04],\n",
              "       [1.14664353e-26],\n",
              "       [1.16357700e-26],\n",
              "       [4.59366838e-08],\n",
              "       [1.11208130e-02],\n",
              "       [1.15879220e-35],\n",
              "       [3.74539759e-08],\n",
              "       [1.91285368e-02],\n",
              "       [1.27108060e-02],\n",
              "       [1.30031336e-27],\n",
              "       [8.19652602e-02],\n",
              "       [9.53135490e-01],\n",
              "       [4.79874300e-33],\n",
              "       [9.73465860e-01],\n",
              "       [3.09861917e-07],\n",
              "       [8.83585632e-01],\n",
              "       [9.01280786e-11],\n",
              "       [9.10439730e-01],\n",
              "       [8.87540097e-10],\n",
              "       [1.27038259e-24],\n",
              "       [1.57781262e-02],\n",
              "       [3.91226619e-01],\n",
              "       [7.48843559e-06],\n",
              "       [5.50457314e-02],\n",
              "       [9.02267516e-01],\n",
              "       [3.77864302e-11],\n",
              "       [2.69698604e-21],\n",
              "       [1.35669753e-01],\n",
              "       [5.78092609e-12],\n",
              "       [6.59254147e-05],\n",
              "       [6.24349892e-01],\n",
              "       [1.59209017e-02],\n",
              "       [1.37759126e-09],\n",
              "       [2.13318111e-22],\n",
              "       [2.92199279e-22],\n",
              "       [1.93942860e-01],\n",
              "       [1.01585435e-07],\n",
              "       [2.69904491e-02],\n",
              "       [1.54628555e-23],\n",
              "       [9.05891776e-01],\n",
              "       [1.64413257e-04],\n",
              "       [4.64534007e-25],\n",
              "       [7.79374540e-01],\n",
              "       [5.51889023e-09],\n",
              "       [7.33640790e-02],\n",
              "       [4.28913645e-22],\n",
              "       [2.10809648e-10],\n",
              "       [1.65521586e-03],\n",
              "       [9.90766406e-01],\n",
              "       [1.33664013e-04],\n",
              "       [1.61462759e-35],\n",
              "       [1.89583922e-08],\n",
              "       [4.48015392e-01],\n",
              "       [9.77943599e-01],\n",
              "       [1.30721389e-06],\n",
              "       [8.38885665e-01],\n",
              "       [9.70824480e-01],\n",
              "       [9.45899470e-10],\n",
              "       [9.10096169e-01],\n",
              "       [2.06232443e-01],\n",
              "       [5.85631967e-01],\n",
              "       [1.74637876e-12],\n",
              "       [9.98577920e-24],\n",
              "       [1.27672083e-19],\n",
              "       [7.96715582e-10],\n",
              "       [5.10613274e-10],\n",
              "       [9.63737488e-01],\n",
              "       [1.72451080e-03],\n",
              "       [7.36965674e-16],\n",
              "       [9.28627618e-13],\n",
              "       [1.09161682e-07],\n",
              "       [5.94168837e-16],\n",
              "       [1.00950893e-23],\n",
              "       [1.29940609e-05],\n",
              "       [4.31269445e-02],\n",
              "       [4.58769467e-09],\n",
              "       [6.57741097e-04],\n",
              "       [4.62266537e-15],\n",
              "       [3.31531004e-15],\n",
              "       [7.84088016e-01],\n",
              "       [8.43402386e-01],\n",
              "       [1.61138251e-23],\n",
              "       [9.37756479e-01],\n",
              "       [7.87040770e-01],\n",
              "       [6.13964664e-20],\n",
              "       [7.57739961e-01],\n",
              "       [1.08185168e-06],\n",
              "       [9.59815025e-01],\n",
              "       [8.86866510e-01],\n",
              "       [2.86281715e-25],\n",
              "       [4.27854330e-09],\n",
              "       [9.07805204e-01],\n",
              "       [2.16056506e-09],\n",
              "       [8.39933492e-08],\n",
              "       [9.32086056e-28],\n",
              "       [1.86853819e-02],\n",
              "       [9.50333536e-01],\n",
              "       [9.85246018e-08],\n",
              "       [7.41740167e-01],\n",
              "       [6.54080212e-01],\n",
              "       [1.89590605e-06],\n",
              "       [5.68043171e-13],\n",
              "       [1.63253524e-17]], dtype=float32)"
            ]
          },
          "execution_count": 46,
          "metadata": {},
          "output_type": "execute_result"
        }
      ],
      "source": [
        "# Make predictions with the test data\n",
        "predictions = nn_model.predict(X_test,verbose=2)\n",
        "\n",
        "\n",
        "# Display a sample of the predictions\n",
        "predictions"
      ]
    },
    {
      "cell_type": "code",
      "execution_count": 42,
      "metadata": {
        "colab": {
          "base_uri": "https://localhost:8080/",
          "height": 424
        },
        "id": "87o8exFPhjfl",
        "outputId": "da5339c5-cea7-43e4-ec22-e168ea16dfa2"
      },
      "outputs": [
        {
          "data": {
            "text/html": [
              "<div>\n",
              "<style scoped>\n",
              "    .dataframe tbody tr th:only-of-type {\n",
              "        vertical-align: middle;\n",
              "    }\n",
              "\n",
              "    .dataframe tbody tr th {\n",
              "        vertical-align: top;\n",
              "    }\n",
              "\n",
              "    .dataframe thead th {\n",
              "        text-align: right;\n",
              "    }\n",
              "</style>\n",
              "<table border=\"1\" class=\"dataframe\">\n",
              "  <thead>\n",
              "    <tr style=\"text-align: right;\">\n",
              "      <th></th>\n",
              "      <th>0</th>\n",
              "    </tr>\n",
              "  </thead>\n",
              "  <tbody>\n",
              "    <tr>\n",
              "      <th>0</th>\n",
              "      <td>0.0</td>\n",
              "    </tr>\n",
              "    <tr>\n",
              "      <th>1</th>\n",
              "      <td>0.0</td>\n",
              "    </tr>\n",
              "    <tr>\n",
              "      <th>2</th>\n",
              "      <td>1.0</td>\n",
              "    </tr>\n",
              "    <tr>\n",
              "      <th>3</th>\n",
              "      <td>0.0</td>\n",
              "    </tr>\n",
              "    <tr>\n",
              "      <th>4</th>\n",
              "      <td>1.0</td>\n",
              "    </tr>\n",
              "    <tr>\n",
              "      <th>...</th>\n",
              "      <td>...</td>\n",
              "    </tr>\n",
              "    <tr>\n",
              "      <th>395</th>\n",
              "      <td>1.0</td>\n",
              "    </tr>\n",
              "    <tr>\n",
              "      <th>396</th>\n",
              "      <td>1.0</td>\n",
              "    </tr>\n",
              "    <tr>\n",
              "      <th>397</th>\n",
              "      <td>0.0</td>\n",
              "    </tr>\n",
              "    <tr>\n",
              "      <th>398</th>\n",
              "      <td>0.0</td>\n",
              "    </tr>\n",
              "    <tr>\n",
              "      <th>399</th>\n",
              "      <td>0.0</td>\n",
              "    </tr>\n",
              "  </tbody>\n",
              "</table>\n",
              "<p>400 rows × 1 columns</p>\n",
              "</div>"
            ],
            "text/plain": [
              "       0\n",
              "0    0.0\n",
              "1    0.0\n",
              "2    1.0\n",
              "3    0.0\n",
              "4    1.0\n",
              "..   ...\n",
              "395  1.0\n",
              "396  1.0\n",
              "397  0.0\n",
              "398  0.0\n",
              "399  0.0\n",
              "\n",
              "[400 rows x 1 columns]"
            ]
          },
          "execution_count": 42,
          "metadata": {},
          "output_type": "execute_result"
        }
      ],
      "source": [
        "# Save the predictions to a DataFrame and round the predictions to binary results\n",
        "predictions_rounded = [round(prediction[0],0) for prediction in predictions]\n",
        "predictions_rounded_df = pd.DataFrame(predictions_rounded)\n",
        "predictions_rounded_df"
      ]
    },
    {
      "cell_type": "markdown",
      "metadata": {
        "id": "oxxLwycg6q62"
      },
      "source": [
        "### Step 4: Display a classification report with the y test data and predictions"
      ]
    },
    {
      "cell_type": "code",
      "execution_count": 43,
      "metadata": {
        "colab": {
          "base_uri": "https://localhost:8080/"
        },
        "id": "UTxYZibW6q67",
        "outputId": "f341b396-9b4c-478c-dba8-f6d904ba10e3"
      },
      "outputs": [
        {
          "name": "stdout",
          "output_type": "stream",
          "text": [
            "              precision    recall  f1-score   support\n",
            "\n",
            "           0       0.50      0.81      0.62       188\n",
            "           1       0.64      0.29      0.40       212\n",
            "\n",
            "    accuracy                           0.54       400\n",
            "   macro avg       0.57      0.55      0.51       400\n",
            "weighted avg       0.57      0.54      0.50       400\n",
            "\n"
          ]
        }
      ],
      "source": [
        "# Print the classification report with the y test data and predictions\n",
        "\n",
        "print(classification_report(y_test, predictions_rounded))"
      ]
    },
    {
      "cell_type": "markdown",
      "metadata": {
        "id": "8Aaof1tBtcp6"
      },
      "source": [
        "---\n",
        "## Discuss creating a recommendation system for student loans"
      ]
    },
    {
      "cell_type": "markdown",
      "metadata": {
        "id": "_CC8cNpNtcp6"
      },
      "source": [
        "Briefly answer the following questions in the space provided:\n",
        "\n",
        "1. Describe the data that you would need to collect to build a recommendation system to recommend student loan options for students. Explain why this data would be relevant and appropriate.\n",
        "\n",
        "2. Based on the data you chose to use in this recommendation system, would your model be using collaborative filtering, content-based filtering, or context-based filtering? Justify why the data you selected would be suitable for your choice of filtering method.\n",
        "\n",
        "3. Describe two real-world challenges that you would take into consideration while building a recommendation system for student loans. Explain why these challenges would be of concern for a student loan recommendation system."
      ]
    },
    {
      "cell_type": "markdown",
      "metadata": {
        "id": "5KqIT8kYtcp6"
      },
      "source": [
        "**1. Describe the data that you would need to collect to build a recommendation system to recommend student loan options for students. Explain why this data would be relevant and appropriate.**\n",
        "\n",
        "\n",
        "**2. Based on the data you chose to use in this recommendation system, would your model be using collaborative filtering, content-based filtering, or context-based filtering? Justify why the data you selected would be suitable for your choice of filtering method.**\n",
        "\n",
        "\n",
        "**3. Describe two real-world challenges that you would take into consideration while building a recommendation system for student loans. Explain why these challenges would be of concern for a student loan recommendation system.**\n",
        "\n"
      ]
    }
  ],
  "metadata": {
    "colab": {
      "provenance": []
    },
    "kernelspec": {
      "display_name": "Python 3 (ipykernel)",
      "language": "python",
      "name": "python3"
    },
    "language_info": {
      "codemirror_mode": {
        "name": "ipython",
        "version": 3
      },
      "file_extension": ".py",
      "mimetype": "text/x-python",
      "name": "python",
      "nbconvert_exporter": "python",
      "pygments_lexer": "ipython3",
      "version": "3.10.13"
    }
  },
  "nbformat": 4,
  "nbformat_minor": 0
}
