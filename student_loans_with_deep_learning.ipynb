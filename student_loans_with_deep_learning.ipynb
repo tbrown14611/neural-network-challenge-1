{
  "cells": [
    {
      "cell_type": "markdown",
      "metadata": {
        "id": "T7ZNhGcW6q6r"
      },
      "source": [
        "# Student Loan Risk with Deep Learning"
      ]
    },
    {
      "cell_type": "code",
      "execution_count": 21,
      "metadata": {
        "id": "0otrXpJc6q6u"
      },
      "outputs": [],
      "source": [
        "# Imports\n",
        "import pandas as pd\n",
        "import tensorflow as tf\n",
        "from tensorflow.keras.layers import Dense\n",
        "from tensorflow.keras.models import Sequential\n",
        "from tensorflow import keras\n",
        "from sklearn.model_selection import train_test_split\n",
        "from sklearn.preprocessing import StandardScaler\n",
        "from sklearn.metrics import classification_report\n",
        "from pathlib import Path"
      ]
    },
    {
      "cell_type": "markdown",
      "metadata": {
        "id": "OpV4Y-3Z6q6w"
      },
      "source": [
        "---\n",
        "\n",
        "## Prepare the data to be used on a neural network model"
      ]
    },
    {
      "cell_type": "markdown",
      "metadata": {
        "id": "TUuSzp2l6q6w"
      },
      "source": [
        "### Step 1: Read the `student-loans.csv` file into a Pandas DataFrame. Review the DataFrame, looking for columns that could eventually define your features and target variables.   "
      ]
    },
    {
      "cell_type": "code",
      "execution_count": 22,
      "metadata": {
        "colab": {
          "base_uri": "https://localhost:8080/",
          "height": 226
        },
        "id": "G65km1KD6q6x",
        "outputId": "93d12d8d-c415-4017-8452-5b4966e4dde5"
      },
      "outputs": [
        {
          "data": {
            "text/html": [
              "<div>\n",
              "<style scoped>\n",
              "    .dataframe tbody tr th:only-of-type {\n",
              "        vertical-align: middle;\n",
              "    }\n",
              "\n",
              "    .dataframe tbody tr th {\n",
              "        vertical-align: top;\n",
              "    }\n",
              "\n",
              "    .dataframe thead th {\n",
              "        text-align: right;\n",
              "    }\n",
              "</style>\n",
              "<table border=\"1\" class=\"dataframe\">\n",
              "  <thead>\n",
              "    <tr style=\"text-align: right;\">\n",
              "      <th></th>\n",
              "      <th>payment_history</th>\n",
              "      <th>location_parameter</th>\n",
              "      <th>stem_degree_score</th>\n",
              "      <th>gpa_ranking</th>\n",
              "      <th>alumni_success</th>\n",
              "      <th>study_major_code</th>\n",
              "      <th>time_to_completion</th>\n",
              "      <th>finance_workshop_score</th>\n",
              "      <th>cohort_ranking</th>\n",
              "      <th>total_loan_score</th>\n",
              "      <th>financial_aid_score</th>\n",
              "      <th>credit_ranking</th>\n",
              "    </tr>\n",
              "  </thead>\n",
              "  <tbody>\n",
              "    <tr>\n",
              "      <th>0</th>\n",
              "      <td>7.4</td>\n",
              "      <td>0.70</td>\n",
              "      <td>0.00</td>\n",
              "      <td>1.9</td>\n",
              "      <td>0.076</td>\n",
              "      <td>11.0</td>\n",
              "      <td>34.0</td>\n",
              "      <td>0.9978</td>\n",
              "      <td>3.51</td>\n",
              "      <td>0.56</td>\n",
              "      <td>9.4</td>\n",
              "      <td>0</td>\n",
              "    </tr>\n",
              "    <tr>\n",
              "      <th>1</th>\n",
              "      <td>7.8</td>\n",
              "      <td>0.88</td>\n",
              "      <td>0.00</td>\n",
              "      <td>2.6</td>\n",
              "      <td>0.098</td>\n",
              "      <td>25.0</td>\n",
              "      <td>67.0</td>\n",
              "      <td>0.9968</td>\n",
              "      <td>3.20</td>\n",
              "      <td>0.68</td>\n",
              "      <td>9.8</td>\n",
              "      <td>0</td>\n",
              "    </tr>\n",
              "    <tr>\n",
              "      <th>2</th>\n",
              "      <td>7.8</td>\n",
              "      <td>0.76</td>\n",
              "      <td>0.04</td>\n",
              "      <td>2.3</td>\n",
              "      <td>0.092</td>\n",
              "      <td>15.0</td>\n",
              "      <td>54.0</td>\n",
              "      <td>0.9970</td>\n",
              "      <td>3.26</td>\n",
              "      <td>0.65</td>\n",
              "      <td>9.8</td>\n",
              "      <td>0</td>\n",
              "    </tr>\n",
              "    <tr>\n",
              "      <th>3</th>\n",
              "      <td>11.2</td>\n",
              "      <td>0.28</td>\n",
              "      <td>0.56</td>\n",
              "      <td>1.9</td>\n",
              "      <td>0.075</td>\n",
              "      <td>17.0</td>\n",
              "      <td>60.0</td>\n",
              "      <td>0.9980</td>\n",
              "      <td>3.16</td>\n",
              "      <td>0.58</td>\n",
              "      <td>9.8</td>\n",
              "      <td>1</td>\n",
              "    </tr>\n",
              "    <tr>\n",
              "      <th>4</th>\n",
              "      <td>7.4</td>\n",
              "      <td>0.70</td>\n",
              "      <td>0.00</td>\n",
              "      <td>1.9</td>\n",
              "      <td>0.076</td>\n",
              "      <td>11.0</td>\n",
              "      <td>34.0</td>\n",
              "      <td>0.9978</td>\n",
              "      <td>3.51</td>\n",
              "      <td>0.56</td>\n",
              "      <td>9.4</td>\n",
              "      <td>0</td>\n",
              "    </tr>\n",
              "  </tbody>\n",
              "</table>\n",
              "</div>"
            ],
            "text/plain": [
              "   payment_history  location_parameter  stem_degree_score  gpa_ranking  \\\n",
              "0              7.4                0.70               0.00          1.9   \n",
              "1              7.8                0.88               0.00          2.6   \n",
              "2              7.8                0.76               0.04          2.3   \n",
              "3             11.2                0.28               0.56          1.9   \n",
              "4              7.4                0.70               0.00          1.9   \n",
              "\n",
              "   alumni_success  study_major_code  time_to_completion  \\\n",
              "0           0.076              11.0                34.0   \n",
              "1           0.098              25.0                67.0   \n",
              "2           0.092              15.0                54.0   \n",
              "3           0.075              17.0                60.0   \n",
              "4           0.076              11.0                34.0   \n",
              "\n",
              "   finance_workshop_score  cohort_ranking  total_loan_score  \\\n",
              "0                  0.9978            3.51              0.56   \n",
              "1                  0.9968            3.20              0.68   \n",
              "2                  0.9970            3.26              0.65   \n",
              "3                  0.9980            3.16              0.58   \n",
              "4                  0.9978            3.51              0.56   \n",
              "\n",
              "   financial_aid_score  credit_ranking  \n",
              "0                  9.4               0  \n",
              "1                  9.8               0  \n",
              "2                  9.8               0  \n",
              "3                  9.8               1  \n",
              "4                  9.4               0  "
            ]
          },
          "execution_count": 22,
          "metadata": {},
          "output_type": "execute_result"
        }
      ],
      "source": [
        "# Read the csv into a Pandas DataFrame\n",
        "file_path = \"https://static.bc-edx.com/ai/ail-v-1-0/m18/lms/datasets/student-loans.csv\"\n",
        "loans_df = pd.read_csv(file_path)\n",
        "\n",
        "# Review the DataFrame\n",
        "loans_df.head()"
      ]
    },
    {
      "cell_type": "code",
      "execution_count": 23,
      "metadata": {
        "colab": {
          "base_uri": "https://localhost:8080/"
        },
        "id": "K8ZYB8wx6q6x",
        "outputId": "b509fc34-4488-406e-e451-2069fec37371"
      },
      "outputs": [
        {
          "data": {
            "text/plain": [
              "payment_history           float64\n",
              "location_parameter        float64\n",
              "stem_degree_score         float64\n",
              "gpa_ranking               float64\n",
              "alumni_success            float64\n",
              "study_major_code          float64\n",
              "time_to_completion        float64\n",
              "finance_workshop_score    float64\n",
              "cohort_ranking            float64\n",
              "total_loan_score          float64\n",
              "financial_aid_score       float64\n",
              "credit_ranking              int64\n",
              "dtype: object"
            ]
          },
          "execution_count": 23,
          "metadata": {},
          "output_type": "execute_result"
        }
      ],
      "source": [
        "# Review the data types associated with the columns\n",
        "loans_df.dtypes"
      ]
    },
    {
      "cell_type": "code",
      "execution_count": 24,
      "metadata": {
        "colab": {
          "base_uri": "https://localhost:8080/"
        },
        "id": "9P8aX-dW75JO",
        "outputId": "63251fa8-5ac1-4112-c2f7-bc5d97ea8491"
      },
      "outputs": [
        {
          "data": {
            "text/plain": [
              "credit_ranking\n",
              "1    855\n",
              "0    744\n",
              "Name: count, dtype: int64"
            ]
          },
          "execution_count": 24,
          "metadata": {},
          "output_type": "execute_result"
        }
      ],
      "source": [
        "# Check the credit_ranking value counts\n",
        "loans_df[\"credit_ranking\"].value_counts()"
      ]
    },
    {
      "cell_type": "markdown",
      "metadata": {
        "id": "R6vbZeDH6q6y"
      },
      "source": [
        "### Step 2: Using the preprocessed data, create the features (`X`) and target (`y`) datasets. The target dataset should be defined by the preprocessed DataFrame column “credit_ranking”. The remaining columns should define the features dataset."
      ]
    },
    {
      "cell_type": "code",
      "execution_count": 25,
      "metadata": {
        "colab": {
          "base_uri": "https://localhost:8080/"
        },
        "id": "Q5eVAP5M6q6y",
        "outputId": "89728bbf-6930-4573-a126-9f1b66ed8859"
      },
      "outputs": [
        {
          "name": "stdout",
          "output_type": "stream",
          "text": [
            "0       0\n",
            "1       0\n",
            "2       0\n",
            "3       1\n",
            "4       0\n",
            "       ..\n",
            "1594    0\n",
            "1595    1\n",
            "1596    1\n",
            "1597    0\n",
            "1598    1\n",
            "Name: credit_ranking, Length: 1599, dtype: int64\n"
          ]
        }
      ],
      "source": [
        "# Define the target set y using the credit_ranking column\n",
        "\n",
        "y = loans_df[\"credit_ranking\"]\n",
        "\n",
        "# Display a sample of y\n",
        "print(y)"
      ]
    },
    {
      "cell_type": "code",
      "execution_count": 26,
      "metadata": {
        "colab": {
          "base_uri": "https://localhost:8080/",
          "height": 226
        },
        "id": "IIkrD2Sn6q6z",
        "outputId": "ce07c4a3-fb81-4657-d11e-ec85ae8554c9"
      },
      "outputs": [
        {
          "name": "stdout",
          "output_type": "stream",
          "text": [
            "      payment_history  location_parameter  stem_degree_score  gpa_ranking  \\\n",
            "0                 7.4               0.700               0.00          1.9   \n",
            "1                 7.8               0.880               0.00          2.6   \n",
            "2                 7.8               0.760               0.04          2.3   \n",
            "3                11.2               0.280               0.56          1.9   \n",
            "4                 7.4               0.700               0.00          1.9   \n",
            "...               ...                 ...                ...          ...   \n",
            "1594              6.2               0.600               0.08          2.0   \n",
            "1595              5.9               0.550               0.10          2.2   \n",
            "1596              6.3               0.510               0.13          2.3   \n",
            "1597              5.9               0.645               0.12          2.0   \n",
            "1598              6.0               0.310               0.47          3.6   \n",
            "\n",
            "      alumni_success  study_major_code  time_to_completion  \\\n",
            "0              0.076              11.0                34.0   \n",
            "1              0.098              25.0                67.0   \n",
            "2              0.092              15.0                54.0   \n",
            "3              0.075              17.0                60.0   \n",
            "4              0.076              11.0                34.0   \n",
            "...              ...               ...                 ...   \n",
            "1594           0.090              32.0                44.0   \n",
            "1595           0.062              39.0                51.0   \n",
            "1596           0.076              29.0                40.0   \n",
            "1597           0.075              32.0                44.0   \n",
            "1598           0.067              18.0                42.0   \n",
            "\n",
            "      finance_workshop_score  cohort_ranking  total_loan_score  \\\n",
            "0                    0.99780            3.51              0.56   \n",
            "1                    0.99680            3.20              0.68   \n",
            "2                    0.99700            3.26              0.65   \n",
            "3                    0.99800            3.16              0.58   \n",
            "4                    0.99780            3.51              0.56   \n",
            "...                      ...             ...               ...   \n",
            "1594                 0.99490            3.45              0.58   \n",
            "1595                 0.99512            3.52              0.76   \n",
            "1596                 0.99574            3.42              0.75   \n",
            "1597                 0.99547            3.57              0.71   \n",
            "1598                 0.99549            3.39              0.66   \n",
            "\n",
            "      financial_aid_score  \n",
            "0                     9.4  \n",
            "1                     9.8  \n",
            "2                     9.8  \n",
            "3                     9.8  \n",
            "4                     9.4  \n",
            "...                   ...  \n",
            "1594                 10.5  \n",
            "1595                 11.2  \n",
            "1596                 11.0  \n",
            "1597                 10.2  \n",
            "1598                 11.0  \n",
            "\n",
            "[1599 rows x 11 columns]\n"
          ]
        }
      ],
      "source": [
        "# Define features set X by selecting all columns but credit_ranking\n",
        "X = loans_df.drop(columns=\"credit_ranking\")\n",
        "\n",
        "# Review the features DataFrame\n",
        "print(X)"
      ]
    },
    {
      "cell_type": "markdown",
      "metadata": {
        "id": "QmM9c-tj6q6z"
      },
      "source": [
        "### Step 3: Split the features and target sets into training and testing datasets.\n"
      ]
    },
    {
      "cell_type": "code",
      "execution_count": 27,
      "metadata": {
        "id": "OD7xwU_96q6z"
      },
      "outputs": [],
      "source": [
        "# Split the preprocessed data into a training and testing dataset\n",
        "# Assign the function a random_state equal to 1\n",
        "X_train, X_test, y_train, y_test = train_test_split(X, y, random_state=1)"
      ]
    },
    {
      "cell_type": "markdown",
      "metadata": {
        "id": "G9i6DHY06q6z"
      },
      "source": [
        "### Step 4: Use scikit-learn's `StandardScaler` to scale the features data."
      ]
    },
    {
      "cell_type": "code",
      "execution_count": 28,
      "metadata": {
        "id": "BzD3z20m6q6z"
      },
      "outputs": [],
      "source": [
        "# Create a StandardScaler instance\n",
        "X_scaler = StandardScaler()\n",
        "\n",
        "# Fit the scaler to the features training dataset\n",
        "X_scaler.fit(X_train)\n",
        "\n",
        "# Scale the data\n",
        "X_train_scaled = X_scaler.transform(X_train)\n",
        "X_test_scaled = X_scaler.transform(X_test)\n"
      ]
    },
    {
      "cell_type": "markdown",
      "metadata": {
        "id": "CZzVDjba6q6z"
      },
      "source": [
        "---\n",
        "\n",
        "## Compile and Evaluate a Model Using a Neural Network"
      ]
    },
    {
      "cell_type": "markdown",
      "metadata": {
        "id": "m-pSux4Q6q60"
      },
      "source": [
        "### Step 1: Create a deep neural network by assigning the number of input features, the number of layers, and the number of neurons on each layer using Tensorflow’s Keras.\n",
        "\n",
        "> **Hint** You can start with a two-layer deep neural network model that uses the `relu` activation function for both layers.\n"
      ]
    },
    {
      "cell_type": "code",
      "execution_count": 29,
      "metadata": {},
      "outputs": [],
      "source": [
        "nn_model = tf.keras.models.Sequential()"
      ]
    },
    {
      "cell_type": "code",
      "execution_count": 30,
      "metadata": {
        "colab": {
          "base_uri": "https://localhost:8080/"
        },
        "id": "t5C94FCd6q60",
        "outputId": "cbf05783-2f56-4745-cd33-649a6152e510"
      },
      "outputs": [],
      "source": [
        "# Set input nodes to the number of features\n",
        "input_nodes = len(X.columns)\n",
        "\n",
        "# Add our first Dense layer, including the input layer\n",
        "nn_model.add(tf.keras.layers.Dense(units=6, activation=\"relu\", input_dim=input_nodes))\n"
      ]
    },
    {
      "cell_type": "code",
      "execution_count": 31,
      "metadata": {
        "id": "63UdFncw6q60"
      },
      "outputs": [],
      "source": [
        "# Create the Sequential model instance\n",
        "\n",
        "# Add the  hidden layers\n",
        "nn_model.add(tf.keras.layers.Dense(units=3, activation=\"relu\"))\n",
        "\n",
        "# Add the output layer to the model specifying the number of output neurons and activation function\n",
        "nn_model.add(tf.keras.layers.Dense(units=1, activation=\"sigmoid\"))"
      ]
    },
    {
      "cell_type": "code",
      "execution_count": 32,
      "metadata": {
        "colab": {
          "base_uri": "https://localhost:8080/"
        },
        "id": "-Beoh4f_6q61",
        "outputId": "2e50f810-086b-4d89-bf7d-98afbe0d649d"
      },
      "outputs": [
        {
          "name": "stdout",
          "output_type": "stream",
          "text": [
            "Model: \"sequential_1\"\n",
            "_________________________________________________________________\n",
            " Layer (type)                Output Shape              Param #   \n",
            "=================================================================\n",
            " dense_3 (Dense)             (None, 6)                 72        \n",
            "                                                                 \n",
            " dense_4 (Dense)             (None, 3)                 21        \n",
            "                                                                 \n",
            " dense_5 (Dense)             (None, 1)                 4         \n",
            "                                                                 \n",
            "=================================================================\n",
            "Total params: 97 (388.00 Byte)\n",
            "Trainable params: 97 (388.00 Byte)\n",
            "Non-trainable params: 0 (0.00 Byte)\n",
            "_________________________________________________________________\n"
          ]
        }
      ],
      "source": [
        "# Display the Sequential model summary\n",
        "nn_model.summary()"
      ]
    },
    {
      "cell_type": "markdown",
      "metadata": {
        "id": "nRqWGIRo6q61"
      },
      "source": [
        "### Step 2: Compile and fit the model using the `binary_crossentropy` loss function, the `adam` optimizer, and the `accuracy` evaluation metric.\n"
      ]
    },
    {
      "cell_type": "code",
      "execution_count": 33,
      "metadata": {
        "id": "E-hZaeSn6q61"
      },
      "outputs": [],
      "source": [
        "# Compile the Sequential model\n",
        "nn_model.compile(loss=\"binary_crossentropy\", optimizer=\"adam\", metrics=[\"accuracy\"])"
      ]
    },
    {
      "cell_type": "code",
      "execution_count": 34,
      "metadata": {
        "colab": {
          "base_uri": "https://localhost:8080/"
        },
        "id": "x25e8Idc6q61",
        "outputId": "e95946ba-23da-47a3-a1c1-5e9a2a484a47"
      },
      "outputs": [
        {
          "name": "stdout",
          "output_type": "stream",
          "text": [
            "Epoch 1/50\n",
            "38/38 [==============================] - 0s 1ms/step - loss: 0.7929 - accuracy: 0.5446\n",
            "Epoch 2/50\n",
            "38/38 [==============================] - 0s 1ms/step - loss: 0.7295 - accuracy: 0.5805\n",
            "Epoch 3/50\n",
            "38/38 [==============================] - 0s 942us/step - loss: 0.6886 - accuracy: 0.6122\n",
            "Epoch 4/50\n",
            "38/38 [==============================] - 0s 942us/step - loss: 0.6621 - accuracy: 0.6364\n",
            "Epoch 5/50\n",
            "38/38 [==============================] - 0s 927us/step - loss: 0.6423 - accuracy: 0.6589\n",
            "Epoch 6/50\n",
            "38/38 [==============================] - 0s 956us/step - loss: 0.6265 - accuracy: 0.6806\n",
            "Epoch 7/50\n",
            "38/38 [==============================] - 0s 933us/step - loss: 0.6143 - accuracy: 0.6889\n",
            "Epoch 8/50\n",
            "38/38 [==============================] - 0s 932us/step - loss: 0.6042 - accuracy: 0.6947\n",
            "Epoch 9/50\n",
            "38/38 [==============================] - 0s 944us/step - loss: 0.5951 - accuracy: 0.7031\n",
            "Epoch 10/50\n",
            "38/38 [==============================] - 0s 917us/step - loss: 0.5876 - accuracy: 0.7164\n",
            "Epoch 11/50\n",
            "38/38 [==============================] - 0s 861us/step - loss: 0.5809 - accuracy: 0.7256\n",
            "Epoch 12/50\n",
            "38/38 [==============================] - 0s 956us/step - loss: 0.5756 - accuracy: 0.7248\n",
            "Epoch 13/50\n",
            "38/38 [==============================] - 0s 755us/step - loss: 0.5706 - accuracy: 0.7289\n",
            "Epoch 14/50\n",
            "38/38 [==============================] - 0s 784us/step - loss: 0.5664 - accuracy: 0.7273\n",
            "Epoch 15/50\n",
            "38/38 [==============================] - 0s 422us/step - loss: 0.5628 - accuracy: 0.7281\n",
            "Epoch 16/50\n",
            "38/38 [==============================] - 0s 844us/step - loss: 0.5594 - accuracy: 0.7314\n",
            "Epoch 17/50\n",
            "38/38 [==============================] - 0s 845us/step - loss: 0.5561 - accuracy: 0.7339\n",
            "Epoch 18/50\n",
            "38/38 [==============================] - 0s 845us/step - loss: 0.5538 - accuracy: 0.7373\n",
            "Epoch 19/50\n",
            "38/38 [==============================] - 0s 844us/step - loss: 0.5511 - accuracy: 0.7373\n",
            "Epoch 20/50\n",
            "38/38 [==============================] - 0s 844us/step - loss: 0.5489 - accuracy: 0.7314\n",
            "Epoch 21/50\n",
            "38/38 [==============================] - 0s 1ms/step - loss: 0.5469 - accuracy: 0.7348\n",
            "Epoch 22/50\n",
            "38/38 [==============================] - 0s 845us/step - loss: 0.5445 - accuracy: 0.7406\n",
            "Epoch 23/50\n",
            "38/38 [==============================] - 0s 845us/step - loss: 0.5428 - accuracy: 0.7423\n",
            "Epoch 24/50\n",
            "38/38 [==============================] - 0s 931us/step - loss: 0.5411 - accuracy: 0.7398\n",
            "Epoch 25/50\n",
            "38/38 [==============================] - 0s 754us/step - loss: 0.5392 - accuracy: 0.7465\n",
            "Epoch 26/50\n",
            "38/38 [==============================] - 0s 1ms/step - loss: 0.5374 - accuracy: 0.7481\n",
            "Epoch 27/50\n",
            "38/38 [==============================] - 0s 844us/step - loss: 0.5359 - accuracy: 0.7523\n",
            "Epoch 28/50\n",
            "38/38 [==============================] - 0s 845us/step - loss: 0.5344 - accuracy: 0.7523\n",
            "Epoch 29/50\n",
            "38/38 [==============================] - 0s 967us/step - loss: 0.5328 - accuracy: 0.7523\n",
            "Epoch 30/50\n",
            "38/38 [==============================] - 0s 1ms/step - loss: 0.5319 - accuracy: 0.7548\n",
            "Epoch 31/50\n",
            "38/38 [==============================] - 0s 922us/step - loss: 0.5309 - accuracy: 0.7490\n",
            "Epoch 32/50\n",
            "38/38 [==============================] - 0s 983us/step - loss: 0.5297 - accuracy: 0.7540\n",
            "Epoch 33/50\n",
            "38/38 [==============================] - 0s 1ms/step - loss: 0.5277 - accuracy: 0.7565\n",
            "Epoch 34/50\n",
            "38/38 [==============================] - 0s 997us/step - loss: 0.5264 - accuracy: 0.7565\n",
            "Epoch 35/50\n",
            "38/38 [==============================] - 0s 1ms/step - loss: 0.5253 - accuracy: 0.7573\n",
            "Epoch 36/50\n",
            "38/38 [==============================] - 0s 1ms/step - loss: 0.5247 - accuracy: 0.7598\n",
            "Epoch 37/50\n",
            "38/38 [==============================] - 0s 941us/step - loss: 0.5239 - accuracy: 0.7556\n",
            "Epoch 38/50\n",
            "38/38 [==============================] - 0s 962us/step - loss: 0.5230 - accuracy: 0.7606\n",
            "Epoch 39/50\n",
            "38/38 [==============================] - 0s 1ms/step - loss: 0.5215 - accuracy: 0.7606\n",
            "Epoch 40/50\n",
            "38/38 [==============================] - 0s 1ms/step - loss: 0.5211 - accuracy: 0.7565\n",
            "Epoch 41/50\n",
            "38/38 [==============================] - 0s 1ms/step - loss: 0.5198 - accuracy: 0.7598\n",
            "Epoch 42/50\n",
            "38/38 [==============================] - 0s 960us/step - loss: 0.5195 - accuracy: 0.7590\n",
            "Epoch 43/50\n",
            "38/38 [==============================] - 0s 864us/step - loss: 0.5186 - accuracy: 0.7590\n",
            "Epoch 44/50\n",
            "38/38 [==============================] - 0s 940us/step - loss: 0.5175 - accuracy: 0.7606\n",
            "Epoch 45/50\n",
            "38/38 [==============================] - 0s 924us/step - loss: 0.5168 - accuracy: 0.7623\n",
            "Epoch 46/50\n",
            "38/38 [==============================] - 0s 929us/step - loss: 0.5162 - accuracy: 0.7598\n",
            "Epoch 47/50\n",
            "38/38 [==============================] - 0s 941us/step - loss: 0.5156 - accuracy: 0.7606\n",
            "Epoch 48/50\n",
            "38/38 [==============================] - 0s 646us/step - loss: 0.5151 - accuracy: 0.7573\n",
            "Epoch 49/50\n",
            "38/38 [==============================] - 0s 618us/step - loss: 0.5144 - accuracy: 0.7581\n",
            "Epoch 50/50\n",
            "38/38 [==============================] - 0s 1ms/step - loss: 0.5133 - accuracy: 0.7590\n"
          ]
        }
      ],
      "source": [
        "# Fit the model using 50 epochs and the training data\n",
        "fit_model = nn_model.fit(X_train_scaled, y_train, epochs=50)"
      ]
    },
    {
      "cell_type": "markdown",
      "metadata": {
        "id": "RfHMPZVI6q61"
      },
      "source": [
        "### Step 3: Evaluate the model using the test data to determine the model’s loss and accuracy.\n"
      ]
    },
    {
      "cell_type": "code",
      "execution_count": 35,
      "metadata": {
        "colab": {
          "base_uri": "https://localhost:8080/"
        },
        "id": "5hfVADKo6q61",
        "outputId": "7df473ad-3301-4b49-e5c3-16e1687cc1cf"
      },
      "outputs": [
        {
          "name": "stdout",
          "output_type": "stream",
          "text": [
            "13/13 - 0s - loss: 0.5322 - accuracy: 0.7375 - 82ms/epoch - 6ms/step\n",
            "Loss: 0.5322398543357849, Accuracy: 0.737500011920929\n"
          ]
        },
        {
          "data": {
            "text/plain": [
              "<Axes: >"
            ]
          },
          "execution_count": 35,
          "metadata": {},
          "output_type": "execute_result"
        },
        {
          "data": {
            "image/png": "[encoded data removed]",
            "text/plain": [
              "<Figure size 640x480 with 1 Axes>"
            ]
          },
          "metadata": {},
          "output_type": "display_data"
        }
      ],
      "source": [
        "# Evaluate the model loss and accuracy metrics using the evaluate method and the test data\n",
        "model_loss, model_accuracy = nn_model.evaluate(X_test_scaled, y_test, verbose=2)\n",
        "print(f\"Loss: {model_loss}, Accuracy: {model_accuracy}\")\n",
        "\n",
        "# Create a DataFrame containing training history\n",
        "history_df = pd.DataFrame(fit_model.history, index=range(1,len(fit_model.history[\"loss\"])+1))\n",
        "\n",
        "# Display the model loss and accuracy results\n",
        "history_df.plot(y=\"accuracy\")"
      ]
    },
    {
      "cell_type": "markdown",
      "metadata": {
        "id": "jpAv0rXA6q61"
      },
      "source": [
        "### Step 4: Save and export your model to a keras file, and name the file `student_loans.keras`.\n"
      ]
    },
    {
      "cell_type": "code",
      "execution_count": 36,
      "metadata": {
        "id": "q0MetN0W6q61"
      },
      "outputs": [],
      "source": [
        "# Set the model's file path\n",
        "filepath = './Resources/model/student_loans.keras'\n",
        "\n",
        "# Export your model to a keras file\n",
        "nn_model.save(filepath)"
      ]
    },
    {
      "cell_type": "markdown",
      "metadata": {
        "id": "R1opCDdN6q61"
      },
      "source": [
        "---\n",
        "## Predict Loan Repayment Success by Using your Neural Network Model"
      ]
    },
    {
      "cell_type": "markdown",
      "metadata": {
        "id": "TfIfpeiy6q61"
      },
      "source": [
        "### Step 1: Reload your saved model."
      ]
    },
    {
      "cell_type": "code",
      "execution_count": 37,
      "metadata": {
        "id": "OCET2mvW6q61"
      },
      "outputs": [
        {
          "name": "stdout",
          "output_type": "stream",
          "text": [
            "Model: \"sequential_1\"\n",
            "_________________________________________________________________\n",
            " Layer (type)                Output Shape              Param #   \n",
            "=================================================================\n",
            " dense_3 (Dense)             (None, 6)                 72        \n",
            "                                                                 \n",
            " dense_4 (Dense)             (None, 3)                 21        \n",
            "                                                                 \n",
            " dense_5 (Dense)             (None, 1)                 4         \n",
            "                                                                 \n",
            "=================================================================\n",
            "Total params: 97 (388.00 Byte)\n",
            "Trainable params: 97 (388.00 Byte)\n",
            "Non-trainable params: 0 (0.00 Byte)\n",
            "_________________________________________________________________\n"
          ]
        }
      ],
      "source": [
        "# Set the model's file path\n",
        "filepath = './Resources/model/student_loans.keras'\n",
        "\n",
        "# Load the model to a new object\n",
        "loaded_model = tf.keras.models.load_model(filepath)\n",
        "\n",
        "# Show the model architecture\n",
        "loaded_model.summary()"
      ]
    },
    {
      "cell_type": "markdown",
      "metadata": {
        "id": "rTPKooGw6q61"
      },
      "source": [
        "### Step 2: Make predictions on the testing data and save the predictions to a DataFrame."
      ]
    },
    {
      "cell_type": "code",
      "execution_count": 38,
      "metadata": {
        "colab": {
          "base_uri": "https://localhost:8080/"
        },
        "id": "Vet7qjgx6q62",
        "outputId": "0925af42-7e12-4978-8396-2a2c1580e1eb"
      },
      "outputs": [
        {
          "name": "stdout",
          "output_type": "stream",
          "text": [
            "13/13 - 0s - 49ms/epoch - 4ms/step\n"
          ]
        },
        {
          "data": {
            "text/plain": [
              "array([[0.30433905],\n",
              "       [0.30433905],\n",
              "       [0.9891393 ],\n",
              "       [0.31235492],\n",
              "       [0.9400555 ],\n",
              "       [0.8943778 ],\n",
              "       [0.31235492],\n",
              "       [0.30433905],\n",
              "       [0.9992931 ],\n",
              "       [0.9714311 ],\n",
              "       [0.31235492],\n",
              "       [0.30433905],\n",
              "       [0.30433905],\n",
              "       [0.30433905],\n",
              "       [0.30433905],\n",
              "       [0.30433905],\n",
              "       [0.31235492],\n",
              "       [0.30433905],\n",
              "       [0.30433905],\n",
              "       [0.30433905],\n",
              "       [0.98331016],\n",
              "       [0.31235492],\n",
              "       [0.30433905],\n",
              "       [0.9999965 ],\n",
              "       [0.30433905],\n",
              "       [0.30433905],\n",
              "       [0.99785215],\n",
              "       [0.30433905],\n",
              "       [0.31235492],\n",
              "       [0.30433905],\n",
              "       [0.30433905],\n",
              "       [0.99998385],\n",
              "       [0.30433905],\n",
              "       [0.97955287],\n",
              "       [0.30433905],\n",
              "       [0.31235492],\n",
              "       [0.30433905],\n",
              "       [0.8425802 ],\n",
              "       [0.99909776],\n",
              "       [0.31235492],\n",
              "       [0.31235492],\n",
              "       [0.30433905],\n",
              "       [0.31235492],\n",
              "       [0.31235492],\n",
              "       [0.30433905],\n",
              "       [0.30433905],\n",
              "       [0.30433905],\n",
              "       [0.99270165],\n",
              "       [0.30433905],\n",
              "       [0.9999748 ],\n",
              "       [0.30433905],\n",
              "       [0.99991494],\n",
              "       [0.31235492],\n",
              "       [0.30433905],\n",
              "       [0.30433905],\n",
              "       [0.999351  ],\n",
              "       [0.30433905],\n",
              "       [0.82052964],\n",
              "       [0.30433905],\n",
              "       [0.30433905],\n",
              "       [0.30433905],\n",
              "       [0.30433905],\n",
              "       [0.30433905],\n",
              "       [0.30433905],\n",
              "       [0.30433905],\n",
              "       [0.30433905],\n",
              "       [0.31235492],\n",
              "       [0.30433905],\n",
              "       [0.95899415],\n",
              "       [0.9951505 ],\n",
              "       [0.30433905],\n",
              "       [0.30433905],\n",
              "       [0.91242355],\n",
              "       [0.9999364 ],\n",
              "       [0.99652874],\n",
              "       [0.3079931 ],\n",
              "       [0.9756865 ],\n",
              "       [0.98738694],\n",
              "       [0.30433905],\n",
              "       [0.30433905],\n",
              "       [0.30433905],\n",
              "       [0.30433905],\n",
              "       [0.30433905],\n",
              "       [0.62809974],\n",
              "       [0.31235492],\n",
              "       [0.30433905],\n",
              "       [0.30433905],\n",
              "       [0.30433905],\n",
              "       [0.80303615],\n",
              "       [0.30433905],\n",
              "       [0.30433905],\n",
              "       [0.30433905],\n",
              "       [0.30433905],\n",
              "       [0.30433905],\n",
              "       [0.9999495 ],\n",
              "       [0.30433905],\n",
              "       [0.9999984 ],\n",
              "       [0.30433905],\n",
              "       [0.31235492],\n",
              "       [0.30433905],\n",
              "       [0.31235492],\n",
              "       [0.9797348 ],\n",
              "       [0.30433905],\n",
              "       [0.30433905],\n",
              "       [0.30433905],\n",
              "       [0.30433905],\n",
              "       [0.30545002],\n",
              "       [0.30433905],\n",
              "       [0.31235492],\n",
              "       [0.30433905],\n",
              "       [0.99241465],\n",
              "       [0.5107629 ],\n",
              "       [0.30433905],\n",
              "       [0.31235492],\n",
              "       [0.9952116 ],\n",
              "       [0.96459866],\n",
              "       [0.30433905],\n",
              "       [0.30433905],\n",
              "       [0.30433905],\n",
              "       [0.30433905],\n",
              "       [0.30433905],\n",
              "       [0.99999815],\n",
              "       [0.31235492],\n",
              "       [0.7511632 ],\n",
              "       [0.30433905],\n",
              "       [0.30433905],\n",
              "       [0.31235492],\n",
              "       [0.30433905],\n",
              "       [0.9983719 ],\n",
              "       [0.30433905],\n",
              "       [0.9884205 ],\n",
              "       [0.30433905],\n",
              "       [0.30433905],\n",
              "       [0.30433905],\n",
              "       [0.7150986 ],\n",
              "       [0.30433905],\n",
              "       [0.30433905],\n",
              "       [0.99997824],\n",
              "       [0.30433905],\n",
              "       [0.30433905],\n",
              "       [0.30433905],\n",
              "       [0.30433905],\n",
              "       [0.30433905],\n",
              "       [0.30433905],\n",
              "       [0.31235492],\n",
              "       [0.31235492],\n",
              "       [0.30433905],\n",
              "       [0.30433905],\n",
              "       [0.30433905],\n",
              "       [0.31235492],\n",
              "       [0.30433905],\n",
              "       [0.30433905],\n",
              "       [0.30433905],\n",
              "       [0.30433905],\n",
              "       [0.30433905],\n",
              "       [0.9941663 ],\n",
              "       [0.99277925],\n",
              "       [0.577091  ],\n",
              "       [0.31235492],\n",
              "       [0.30433905],\n",
              "       [0.9776514 ],\n",
              "       [0.9982213 ],\n",
              "       [0.30433905],\n",
              "       [0.30433905],\n",
              "       [0.30433905],\n",
              "       [0.31235492],\n",
              "       [0.30433905],\n",
              "       [0.30433905],\n",
              "       [0.30433905],\n",
              "       [0.9648793 ],\n",
              "       [0.30433905],\n",
              "       [0.30433905],\n",
              "       [0.30433905],\n",
              "       [0.30433905],\n",
              "       [0.30433905],\n",
              "       [0.30433905],\n",
              "       [0.30433905],\n",
              "       [0.30433905],\n",
              "       [0.30433905],\n",
              "       [0.30433905],\n",
              "       [0.30433905],\n",
              "       [0.30433905],\n",
              "       [0.31235492],\n",
              "       [0.30433905],\n",
              "       [0.31235492],\n",
              "       [0.30433905],\n",
              "       [0.99998844],\n",
              "       [0.30433905],\n",
              "       [0.9982625 ],\n",
              "       [0.30433905],\n",
              "       [0.31235492],\n",
              "       [0.30433905],\n",
              "       [0.30433905],\n",
              "       [0.30433905],\n",
              "       [0.30433905],\n",
              "       [0.30433905],\n",
              "       [0.31235492],\n",
              "       [0.30433905],\n",
              "       [0.30433905],\n",
              "       [0.30433905],\n",
              "       [0.99980927],\n",
              "       [0.30433905],\n",
              "       [0.99999774],\n",
              "       [0.30433905],\n",
              "       [0.32554182],\n",
              "       [0.30433905],\n",
              "       [0.9843475 ],\n",
              "       [0.30433905],\n",
              "       [0.30433905],\n",
              "       [0.30433905],\n",
              "       [0.30433905],\n",
              "       [0.99948937],\n",
              "       [0.30433905],\n",
              "       [0.30433905],\n",
              "       [0.30433905],\n",
              "       [0.30433905],\n",
              "       [0.30433905],\n",
              "       [0.31235492],\n",
              "       [0.30433905],\n",
              "       [0.30433905],\n",
              "       [0.30433905],\n",
              "       [0.30433905],\n",
              "       [0.30433905],\n",
              "       [0.30433905],\n",
              "       [0.30433905],\n",
              "       [0.30433905],\n",
              "       [0.31235492],\n",
              "       [0.30433905],\n",
              "       [0.5406471 ],\n",
              "       [0.30433905],\n",
              "       [0.99844235],\n",
              "       [0.30433905],\n",
              "       [0.31235492],\n",
              "       [0.50558734],\n",
              "       [0.30433905],\n",
              "       [0.31235492],\n",
              "       [0.30433905],\n",
              "       [0.30433905],\n",
              "       [0.9757588 ],\n",
              "       [0.9898206 ],\n",
              "       [0.30433905],\n",
              "       [0.98952943],\n",
              "       [0.30433905],\n",
              "       [0.9700186 ],\n",
              "       [0.30433905],\n",
              "       [0.30433905],\n",
              "       [0.30433905],\n",
              "       [0.30433905],\n",
              "       [0.30433905],\n",
              "       [0.30433905],\n",
              "       [0.30433905],\n",
              "       [0.30433905],\n",
              "       [0.31235492],\n",
              "       [0.31235492],\n",
              "       [0.31235492],\n",
              "       [0.30433905],\n",
              "       [0.30433905],\n",
              "       [0.31235492],\n",
              "       [0.30433905],\n",
              "       [0.9999988 ],\n",
              "       [0.30433905],\n",
              "       [0.92789644],\n",
              "       [0.99965256],\n",
              "       [0.31235492],\n",
              "       [0.30433905],\n",
              "       [0.30433905],\n",
              "       [0.31235492],\n",
              "       [0.30433905],\n",
              "       [0.30433905],\n",
              "       [0.31235492],\n",
              "       [0.6865245 ],\n",
              "       [0.30433905],\n",
              "       [0.30433905],\n",
              "       [0.30433905],\n",
              "       [0.30433905],\n",
              "       [0.30433905],\n",
              "       [0.30433905],\n",
              "       [0.30433905],\n",
              "       [0.31235492],\n",
              "       [0.31235492],\n",
              "       [0.9684306 ],\n",
              "       [0.98079616],\n",
              "       [0.30433905],\n",
              "       [0.30433905],\n",
              "       [0.30433905],\n",
              "       [0.52622235],\n",
              "       [0.30433905],\n",
              "       [0.30433905],\n",
              "       [0.30433905],\n",
              "       [0.31235492],\n",
              "       [0.30433905],\n",
              "       [0.31235492],\n",
              "       [0.30433905],\n",
              "       [0.30433905],\n",
              "       [0.30433905],\n",
              "       [0.97989607],\n",
              "       [0.30433905],\n",
              "       [0.30433905],\n",
              "       [0.30433905],\n",
              "       [0.30433905],\n",
              "       [0.30433905],\n",
              "       [0.30433905],\n",
              "       [0.30433905],\n",
              "       [0.30433905],\n",
              "       [0.30433905],\n",
              "       [0.31235492],\n",
              "       [0.30433905],\n",
              "       [0.31235492],\n",
              "       [0.9993403 ],\n",
              "       [0.30433905],\n",
              "       [0.9998061 ],\n",
              "       [0.31235492],\n",
              "       [0.9359286 ],\n",
              "       [0.30433905],\n",
              "       [0.9960789 ],\n",
              "       [0.31235492],\n",
              "       [0.30433905],\n",
              "       [0.31235492],\n",
              "       [0.44865158],\n",
              "       [0.30433905],\n",
              "       [0.30433905],\n",
              "       [0.9993334 ],\n",
              "       [0.30433905],\n",
              "       [0.30433905],\n",
              "       [0.30433905],\n",
              "       [0.30433905],\n",
              "       [0.30433905],\n",
              "       [0.79877675],\n",
              "       [0.30433905],\n",
              "       [0.30433905],\n",
              "       [0.30433905],\n",
              "       [0.30433905],\n",
              "       [0.30433905],\n",
              "       [0.30433905],\n",
              "       [0.30433905],\n",
              "       [0.30433905],\n",
              "       [0.99840325],\n",
              "       [0.30433905],\n",
              "       [0.30433905],\n",
              "       [0.9401053 ],\n",
              "       [0.30433905],\n",
              "       [0.30433905],\n",
              "       [0.30433905],\n",
              "       [0.30433905],\n",
              "       [0.30433905],\n",
              "       [0.99998814],\n",
              "       [0.30433905],\n",
              "       [0.30433905],\n",
              "       [0.30433905],\n",
              "       [0.5922181 ],\n",
              "       [0.99948937],\n",
              "       [0.31235492],\n",
              "       [0.9772431 ],\n",
              "       [0.9996146 ],\n",
              "       [0.31235492],\n",
              "       [0.986879  ],\n",
              "       [0.30433905],\n",
              "       [0.30433905],\n",
              "       [0.30433905],\n",
              "       [0.30433905],\n",
              "       [0.30433905],\n",
              "       [0.31235492],\n",
              "       [0.30433905],\n",
              "       [0.9987574 ],\n",
              "       [0.30433905],\n",
              "       [0.30433905],\n",
              "       [0.30433905],\n",
              "       [0.30433905],\n",
              "       [0.30433905],\n",
              "       [0.31235492],\n",
              "       [0.31235492],\n",
              "       [0.31235492],\n",
              "       [0.31235492],\n",
              "       [0.30433905],\n",
              "       [0.30433905],\n",
              "       [0.30433905],\n",
              "       [0.9063195 ],\n",
              "       [0.98391336],\n",
              "       [0.30433905],\n",
              "       [0.9994253 ],\n",
              "       [0.732883  ],\n",
              "       [0.30433905],\n",
              "       [0.8591536 ],\n",
              "       [0.31235492],\n",
              "       [0.99970394],\n",
              "       [0.9989563 ],\n",
              "       [0.31235492],\n",
              "       [0.30433905],\n",
              "       [0.94938827],\n",
              "       [0.31235492],\n",
              "       [0.30433905],\n",
              "       [0.30433905],\n",
              "       [0.31235492],\n",
              "       [0.99826163],\n",
              "       [0.31235492],\n",
              "       [0.70553076],\n",
              "       [0.80303615],\n",
              "       [0.31235492],\n",
              "       [0.30433905],\n",
              "       [0.31235492]], dtype=float32)"
            ]
          },
          "execution_count": 38,
          "metadata": {},
          "output_type": "execute_result"
        }
      ],
      "source": [
        "# Make predictions with the test data\n",
        "predictions = nn_model.predict(X_test,verbose=2)\n",
        "\n",
        "\n",
        "# Display a sample of the predictions\n",
        "predictions"
      ]
    },
    {
      "cell_type": "code",
      "execution_count": 39,
      "metadata": {
        "colab": {
          "base_uri": "https://localhost:8080/",
          "height": 424
        },
        "id": "87o8exFPhjfl",
        "outputId": "da5339c5-cea7-43e4-ec22-e168ea16dfa2"
      },
      "outputs": [
        {
          "data": {
            "text/html": [
              "<div>\n",
              "<style scoped>\n",
              "    .dataframe tbody tr th:only-of-type {\n",
              "        vertical-align: middle;\n",
              "    }\n",
              "\n",
              "    .dataframe tbody tr th {\n",
              "        vertical-align: top;\n",
              "    }\n",
              "\n",
              "    .dataframe thead th {\n",
              "        text-align: right;\n",
              "    }\n",
              "</style>\n",
              "<table border=\"1\" class=\"dataframe\">\n",
              "  <thead>\n",
              "    <tr style=\"text-align: right;\">\n",
              "      <th></th>\n",
              "      <th>0</th>\n",
              "    </tr>\n",
              "  </thead>\n",
              "  <tbody>\n",
              "    <tr>\n",
              "      <th>0</th>\n",
              "      <td>0.0</td>\n",
              "    </tr>\n",
              "    <tr>\n",
              "      <th>1</th>\n",
              "      <td>0.0</td>\n",
              "    </tr>\n",
              "    <tr>\n",
              "      <th>2</th>\n",
              "      <td>1.0</td>\n",
              "    </tr>\n",
              "    <tr>\n",
              "      <th>3</th>\n",
              "      <td>0.0</td>\n",
              "    </tr>\n",
              "    <tr>\n",
              "      <th>4</th>\n",
              "      <td>1.0</td>\n",
              "    </tr>\n",
              "    <tr>\n",
              "      <th>...</th>\n",
              "      <td>...</td>\n",
              "    </tr>\n",
              "    <tr>\n",
              "      <th>395</th>\n",
              "      <td>1.0</td>\n",
              "    </tr>\n",
              "    <tr>\n",
              "      <th>396</th>\n",
              "      <td>1.0</td>\n",
              "    </tr>\n",
              "    <tr>\n",
              "      <th>397</th>\n",
              "      <td>0.0</td>\n",
              "    </tr>\n",
              "    <tr>\n",
              "      <th>398</th>\n",
              "      <td>0.0</td>\n",
              "    </tr>\n",
              "    <tr>\n",
              "      <th>399</th>\n",
              "      <td>0.0</td>\n",
              "    </tr>\n",
              "  </tbody>\n",
              "</table>\n",
              "<p>400 rows × 1 columns</p>\n",
              "</div>"
            ],
            "text/plain": [
              "       0\n",
              "0    0.0\n",
              "1    0.0\n",
              "2    1.0\n",
              "3    0.0\n",
              "4    1.0\n",
              "..   ...\n",
              "395  1.0\n",
              "396  1.0\n",
              "397  0.0\n",
              "398  0.0\n",
              "399  0.0\n",
              "\n",
              "[400 rows x 1 columns]"
            ]
          },
          "execution_count": 39,
          "metadata": {},
          "output_type": "execute_result"
        }
      ],
      "source": [
        "# Save the predictions to a DataFrame and round the predictions to binary results\n",
        "predictions_rounded = [round(prediction[0],0) for prediction in predictions]\n",
        "predictions_rounded_df = pd.DataFrame(predictions_rounded)\n",
        "predictions_rounded_df"
      ]
    },
    {
      "cell_type": "markdown",
      "metadata": {
        "id": "oxxLwycg6q62"
      },
      "source": [
        "### Step 4: Display a classification report with the y test data and predictions"
      ]
    },
    {
      "cell_type": "code",
      "execution_count": 40,
      "metadata": {
        "colab": {
          "base_uri": "https://localhost:8080/"
        },
        "id": "UTxYZibW6q67",
        "outputId": "f341b396-9b4c-478c-dba8-f6d904ba10e3"
      },
      "outputs": [
        {
          "name": "stdout",
          "output_type": "stream",
          "text": [
            "              precision    recall  f1-score   support\n",
            "\n",
            "           0       0.51      0.83      0.63       188\n",
            "           1       0.65      0.28      0.39       212\n",
            "\n",
            "    accuracy                           0.54       400\n",
            "   macro avg       0.58      0.56      0.51       400\n",
            "weighted avg       0.58      0.54      0.50       400\n",
            "\n"
          ]
        }
      ],
      "source": [
        "# Print the classification report with the y test data and predictions\n",
        "\n",
        "print(classification_report(y_test, predictions_rounded))"
      ]
    },
    {
      "cell_type": "markdown",
      "metadata": {
        "id": "8Aaof1tBtcp6"
      },
      "source": [
        "---\n",
        "## Discuss creating a recommendation system for student loans"
      ]
    },
    {
      "cell_type": "markdown",
      "metadata": {
        "id": "_CC8cNpNtcp6"
      },
      "source": [
        "Briefly answer the following questions in the space provided:\n",
        "\n",
        "1. Describe the data that you would need to collect to build a recommendation system to recommend student loan options for students. Explain why this data would be relevant and appropriate.\n",
        "\n",
        "2. Based on the data you chose to use in this recommendation system, would your model be using collaborative filtering, content-based filtering, or context-based filtering? Justify why the data you selected would be suitable for your choice of filtering method.\n",
        "\n",
        "3. Describe two real-world challenges that you would take into consideration while building a recommendation system for student loans. Explain why these challenges would be of concern for a student loan recommendation system."
      ]
    },
    {
      "cell_type": "markdown",
      "metadata": {},
      "source": [
        " ### 1. To build a recommendation system for student loan options, you would need to collect a variety of data that can be categorized into user data, loan product data, and contextual data. \n",
        "\n",
        "Here’s a breakdown of each category and why the data is relevant:\n",
        "\n",
        "### User Data:\n",
        "Demographics: \n",
        "Information such as age, location, and education level can help tailor loan options to the user’s life stage and local regulations.\n",
        "#### Financial Information: \n",
        "Income, credit score, and existing debt influence what loan terms a student might qualify for.\n",
        "#### Educational Information: \n",
        "The field of study, type of degree, and institution can affect loan eligibility and repayment options, as some fields may have higher earning potential.\n",
        "#### Repayment Preferences:\n",
        "Desired repayment period, willingness for variable interest rates, and preferred monthly payment amounts are crucial for personalizing recommendations.\n",
        "\n",
        "### Loan Product Data:\n",
        "#### Loan Terms: \n",
        "Interest rates, fees, repayment periods, and eligibility requirements are necessary to match products with user needs.\n",
        "### Lender Reputation: \n",
        "Ratings and reviews of lenders can help recommend trustworthy and user-friendly options.\n",
        "#### Special Features: \n",
        "Information on deferment options, income-based repayments, or forgiveness programs can be important for users who anticipate needing flexibility.\n",
        "### Contextual Data:\n",
        "#### Economic Indicators: \n",
        "Current interest rates, economic forecasts, and job market data can help predict the affordability and advisability of different loan options.\n",
        "#### Legislation: \n",
        "Changes in student loan laws or tax codes can affect the desirability of certain loans.\n",
        "\n",
        "Collecting this data is relevant because it allows the recommendation system to provide personalized, realistic, and up-to-date loan options that align with the user’s financial situation, educational background, and preferences. It’s important to ensure that data collection complies with privacy laws and regulations, such as GDPR or CCPA, and that users consent to the collection and use of their personal information"
      ]
    },
    {
      "cell_type": "markdown",
      "metadata": {},
      "source": [
        "### 2. Given the data selected for the student loan recommendation system, the model would primarily use content-based filtering and context-based filtering. Here’s why these methods are suitable:\n",
        "\n",
        "### Content-Based Filtering:\n",
        "This method recommends items based on a comparison between the content of the items and a user profile. The content of each item is represented as a set of descriptors or terms.\n",
        "In the case of student loans, the “content” includes loan terms, lender reputation, and special features. The user profile would consist of the user’s financial information, educational information, and repayment preferences.\n",
        "The system would analyze the user’s profile and match it with loan options that have similar characteristics. For example, if a user has a high credit score and is pursuing a degree with high earning potential, the system would recommend loans with favorable terms that are aligned with such profiles.\n",
        "### Context-Based Filtering:\n",
        "Context-based filtering takes into account the situational information when providing recommendations. This can include current economic indicators, legislation changes, or even the user’s current stage in their education.\n",
        "The selected data such as economic indicators and legislation are relevant because they provide the context in which the loan will be utilized. For instance, if the job market is strong, the system might recommend loans with shorter repayment periods, anticipating a higher ability to repay.\n",
        "\n",
        "While collaborative filtering could also be used, it requires data on the preferences or behaviors of a group of users to make recommendations, which is not the primary focus of the data collected for this system. The chosen data is more about the individual’s circumstances and the specifics of the loan products, making content-based and context-based filtering more appropriate for providing personalized and situationally relevant recommendations."
      ]
    },
    {
      "cell_type": "markdown",
      "metadata": {},
      "source": [
        "### 3. Building a recommendation system for student loans involves several real-world challenges. \n",
        "\n",
        "Here are two significant ones to consider:\n",
        "\n",
        "### Data Privacy and Security:\n",
        "### Challenge:\n",
        "Handling sensitive personal and financial data requires strict adherence to data protection laws like GDPR and CCPA. Ensuring the security of this data against breaches is paramount.\n",
        "### Concern: \n",
        "Students must trust the system with their personal information. A breach could lead to identity theft, financial fraud, and loss of credibility for the service. Therefore, implementing robust encryption and security protocols is critical.\n",
        "\n",
        "###  Regulatory Compliance and Changing Policies:\n",
        "### Challenge: \n",
        "Student loan regulations can vary by region and change over time. The system must stay updated with these changes to provide accurate recommendations.\n",
        "### Concern: \n",
        "Recommending loan options that are no longer compliant can lead to legal issues for both the provider and the user. It’s crucial for the system to have a mechanism to regularly update its database and algorithms in accordance with current laws and policies.\n",
        "\n",
        "These challenges are of concern because they directly affect the system’s reliability, trustworthiness, and legal standing. Addressing them is essential for the successful operation and user acceptance of a student loan recommendation system."
      ]
    }
  ],
  "metadata": {
    "colab": {
      "provenance": []
    },
    "kernelspec": {
      "display_name": "Python 3 (ipykernel)",
      "language": "python",
      "name": "python3"
    },
    "language_info": {
      "codemirror_mode": {
        "name": "ipython",
        "version": 3
      },
      "file_extension": ".py",
      "mimetype": "text/x-python",
      "name": "python",
      "nbconvert_exporter": "python",
      "pygments_lexer": "ipython3",
      "version": "3.10.13"
    }
  },
  "nbformat": 4,
  "nbformat_minor": 0
}
